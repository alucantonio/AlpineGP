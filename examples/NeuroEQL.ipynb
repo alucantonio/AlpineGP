{
 "cells": [
  {
   "cell_type": "code",
   "execution_count": 198,
   "id": "352f3e40-a8f5-4fcd-b1d4-a77f6f9042fb",
   "metadata": {},
   "outputs": [],
   "source": [
    "from torch import nn\n",
    "import torch\n",
    "import numpy as np\n",
    "device = \"cpu\"\n",
    "torch.set_default_device(device)\n",
    "torch.set_default_dtype(torch.float64)"
   ]
  },
  {
   "cell_type": "code",
   "execution_count": 262,
   "id": "0351adbb-cf90-4218-afe7-e8922a606a47",
   "metadata": {},
   "outputs": [],
   "source": [
    "s = torch.nn.Sigmoid()\n",
    "\n",
    "class linear(nn.Module):\n",
    "    def __init__(self, in_features, out_features):\n",
    "        super().__init__()\n",
    "        self.w = torch.nn.Parameter(torch.randn((out_features, in_features)))\n",
    "        \n",
    "    def forward(self, x):\n",
    "        y = torch.matmul(self.w, x)\n",
    "        return y\n",
    "\n",
    "class activations(nn.Module):\n",
    "    def __init__(self):\n",
    "        super().__init__()\n",
    "        # self.w = torch.nn.Parameter(torch.randn(4))\n",
    "        \n",
    "    def forward(self, x):\n",
    "        y1 = torch.sin(x[0])\n",
    "        y2 = torch.cos(x[1])\n",
    "        y3 = x[2] + x[2]\n",
    "        y4 = x[3]\n",
    "        #print(y1,y2,y3,y4)\n",
    "        ystack = torch.vstack((y1,y2,y3,y4))\n",
    "        return torch.reshape(ystack, (4, x.shape[1]))\n",
    "\n",
    "class EQL(nn.Module):\n",
    "    def __init__(self, in_features, out_features):\n",
    "        super().__init__()\n",
    "        self.linear1 = linear(1, 4)\n",
    "        self.layer1 = activations()\n",
    "        self.linear2 = linear(4, 4)\n",
    "\n",
    "    def forward(self, x):\n",
    "        y = self.linear1(x)\n",
    "        y = self.layer1(y)\n",
    "        y = self.linear2(y)\n",
    "        return torch.sum(y, dim=0).flatten()"
   ]
  },
  {
   "cell_type": "code",
   "execution_count": 265,
   "id": "2fac9910-01c9-4242-8386-8ae04b55dba8",
   "metadata": {},
   "outputs": [
    {
     "data": {
      "text/plain": [
       "tensor([-2.6294, -2.5632, -2.4965, -2.4295, -2.3623, -2.2953, -2.2285, -2.1623,\n",
       "        -2.0968, -2.0322, -1.9688], grad_fn=<SumBackward1>)"
      ]
     },
     "execution_count": 265,
     "metadata": {},
     "output_type": "execute_result"
    }
   ],
   "source": [
    "points1 = torch.tensor(np.arange(0.,1.1,0.1))\n",
    "points2 = torch.tensor(np.arange(1.,2.1,0.1))\n",
    "x = torch.vstack((points1,points2))\n",
    "x = torch.unsqueeze(points1, dim=0)\n",
    "y = torch.cos(x)\n",
    "\n",
    "model = EQL(1, 4)\n",
    "#model.linear1.w = nn.Parameter(torch.tensor([[0.],[1.],[0.],[0.]]))\n",
    "#model.linear2.w = nn.Parameter(torch.tensor([[0.,0.,0.,0.],[0.,0.,0.,1.],[0.,0.,0.,0.],[0.,1.,0.,0.]]))\n",
    "model(x)"
   ]
  },
  {
   "cell_type": "code",
   "execution_count": 266,
   "id": "dffa9ddc-be82-4594-948c-2c8f31d3982b",
   "metadata": {},
   "outputs": [
    {
     "name": "stdout",
     "output_type": "stream",
     "text": [
      "0 109.2612176087053\n",
      "1000 2.518885061591168e-07\n",
      "2000 2.833431388024466e-10\n",
      "3000 2.8331904121675805e-10\n",
      "4000 2.8327820007642293e-10\n"
     ]
    }
   ],
   "source": [
    "criterion = torch.nn.MSELoss(reduction='sum')\n",
    "optimizer = torch.optim.Adam(model.parameters(), lr=1e-1)\n",
    "for t in range(5000):\n",
    "    # Forward pass: Compute predicted y by passing x to the model\n",
    "    y_pred = model(x)\n",
    "\n",
    "    # Compute and print loss\n",
    "    loss = criterion(y_pred, y)\n",
    "    if t % 1000 == 0:\n",
    "        print(t, loss.item())\n",
    "\n",
    "    # Zero gradients, perform a backward pass, and update the weights.\n",
    "    optimizer.zero_grad()\n",
    "    loss.backward()\n",
    "    optimizer.step()"
   ]
  },
  {
   "cell_type": "code",
   "execution_count": 267,
   "id": "2d1654e6-1aaa-4945-8f9c-e1cb9a88b7b6",
   "metadata": {},
   "outputs": [
    {
     "name": "stdout",
     "output_type": "stream",
     "text": [
      "[Parameter containing:\n",
      "tensor([[0.1416],\n",
      "        [1.0003],\n",
      "        [0.0542],\n",
      "        [0.2923]], requires_grad=True), Parameter containing:\n",
      "tensor([[-0.2600, -0.6425,  0.4487,  1.4607],\n",
      "        [-1.3118,  0.8833, -0.4224,  0.8378],\n",
      "        [-0.0582,  1.0985,  1.2326, -1.2641],\n",
      "        [ 1.3514, -0.3392, -0.4329, -1.2057]], requires_grad=True)]\n"
     ]
    }
   ],
   "source": [
    "print(list(model.parameters()))"
   ]
  },
  {
   "cell_type": "code",
   "execution_count": 268,
   "id": "6c9fec30-5977-4f09-a692-9cfad5c6c1a0",
   "metadata": {},
   "outputs": [
    {
     "data": {
      "text/plain": [
       "tensor([[1.0000, 0.9950, 0.9801, 0.9553, 0.9211, 0.8776, 0.8253, 0.7648, 0.6967,\n",
       "         0.6216, 0.5403]])"
      ]
     },
     "execution_count": 268,
     "metadata": {},
     "output_type": "execute_result"
    }
   ],
   "source": [
    "y"
   ]
  },
  {
   "cell_type": "code",
   "execution_count": 269,
   "id": "ca39c519-1a62-4d8e-bab9-1844d4543db2",
   "metadata": {},
   "outputs": [
    {
     "data": {
      "text/plain": [
       "tensor([1.0000, 0.9950, 0.9801, 0.9553, 0.9211, 0.8776, 0.8253, 0.7648, 0.6967,\n",
       "        0.6216, 0.5403], grad_fn=<SumBackward1>)"
      ]
     },
     "execution_count": 269,
     "metadata": {},
     "output_type": "execute_result"
    }
   ],
   "source": [
    "model(x)"
   ]
  },
  {
   "cell_type": "code",
   "execution_count": null,
   "id": "ddd5d4b6-140e-43c2-b6c8-63865edb50d0",
   "metadata": {},
   "outputs": [],
   "source": []
  }
 ],
 "metadata": {
  "kernelspec": {
   "display_name": "Python 3 (ipykernel)",
   "language": "python",
   "name": "python3"
  },
  "language_info": {
   "codemirror_mode": {
    "name": "ipython",
    "version": 3
   },
   "file_extension": ".py",
   "mimetype": "text/x-python",
   "name": "python",
   "nbconvert_exporter": "python",
   "pygments_lexer": "ipython3",
   "version": "3.11.5"
  }
 },
 "nbformat": 4,
 "nbformat_minor": 5
}
