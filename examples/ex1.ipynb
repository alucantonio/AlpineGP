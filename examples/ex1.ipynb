{
 "cells": [
  {
   "cell_type": "code",
   "execution_count": 1,
   "metadata": {},
   "outputs": [],
   "source": [
    "from dctkit.dec import cochain as C\n",
    "from dctkit.mesh.simplex import SimplicialComplex\n",
    "from dctkit.mesh.util import generate_line_mesh, build_complex_from_mesh\n",
    "from dctkit.math.opt import optctrl as oc\n",
    "import matplotlib.pyplot as plt\n",
    "from deap import gp\n",
    "from alpine.gp import gpsymbreg as gps\n",
    "from dctkit import config\n",
    "import dctkit\n",
    "import numpy as np\n",
    "import ray\n",
    "import math\n",
    "import yaml\n",
    "from typing import Tuple, Callable, List\n",
    "import numpy.typing as npt"
   ]
  },
  {
   "cell_type": "code",
   "execution_count": 2,
   "metadata": {},
   "outputs": [],
   "source": [
    "# choose precision and whether to use GPU or CPU\n",
    "# needed for context of the plots at the end of the evolution\n",
    "config()\n",
    "\n",
    "def eval_MSE_sol(residual: Callable, X: npt.NDArray, y: npt.NDArray,\n",
    "             S: SimplicialComplex, u_0: C.CochainP0) -> float:\n",
    "\n",
    "    num_nodes = X.shape[1]\n",
    "\n",
    "    # need to call config again before using JAX in energy evaluations to make sure that\n",
    "    # the current worker has initialized JAX\n",
    "    config()\n",
    "\n",
    "    # objective: squared norm of the residual of the equation + penalty on Dirichlet \n",
    "    # boundary condition on the first node\n",
    "    def obj(x, y):\n",
    "        penalty = 100.*x[0]**2\n",
    "        u = C.CochainP0(S, x)\n",
    "        f = C.CochainP0(S, y)\n",
    "        r = residual(u, f)\n",
    "        total_energy = C.inner_product(r, r) + penalty\n",
    "        return total_energy\n",
    "\n",
    "    prb = oc.OptimizationProblem(dim=num_nodes, state_dim=num_nodes, objfun=obj)\n",
    "\n",
    "    total_err = 0.\n",
    "\n",
    "    best_sols = []\n",
    "\n",
    "    for i, vec_y in enumerate(y):\n",
    "        # set additional arguments of the objective function (apart from the vector of unknowns)\n",
    "        args = {'y': vec_y}\n",
    "        prb.set_obj_args(args)\n",
    "\n",
    "        # minimize the objective\n",
    "        x = prb.solve(x0=u_0.coeffs, ftol_abs=1e-12, ftol_rel=1e-12, maxeval=1000)\n",
    "\n",
    "        if (prb.last_opt_result == 1 or prb.last_opt_result == 3\n",
    "                or prb.last_opt_result == 4):\n",
    "\n",
    "            current_err = np.linalg.norm(x-X[i, :])**2\n",
    "        else:\n",
    "            current_err = math.nan\n",
    "\n",
    "        if math.isnan(current_err):\n",
    "            total_err = 1e5\n",
    "            break\n",
    "\n",
    "        total_err += current_err\n",
    "\n",
    "        best_sols.append(x)\n",
    "\n",
    "    total_err *= 1/X.shape[0]\n",
    "\n",
    "    return total_err, best_sols"
   ]
  },
  {
   "cell_type": "code",
   "execution_count": 3,
   "metadata": {},
   "outputs": [],
   "source": [
    "@ray.remote\n",
    "def predict(individual: Callable, indlen: int, X: npt.NDArray, y: npt.NDArray,\n",
    "            S: SimplicialComplex, u_0: C.CochainP0, penalty: dict) -> List[npt.NDArray]:\n",
    "\n",
    "    _, best_sols = eval_MSE_sol(individual, X, y, S, u_0)\n",
    "\n",
    "    return best_sols"
   ]
  },
  {
   "cell_type": "code",
   "execution_count": 4,
   "metadata": {},
   "outputs": [],
   "source": [
    "@ray.remote\n",
    "def fitness(individual: Callable, indlen: int, X: npt.NDArray, y: npt.NDArray,\n",
    "                 S: SimplicialComplex, u_0: C.CochainP0, penalty: dict) -> Tuple[float, ]:\n",
    "\n",
    "    total_err, _ = eval_MSE_sol(individual, X, y, S, u_0)\n",
    "\n",
    "    # add penalty on length of the tree to promote simpler solutions\n",
    "    objval = total_err + penalty[\"reg_param\"]*indlen\n",
    "\n",
    "    return objval,"
   ]
  },
  {
   "cell_type": "code",
   "execution_count": 5,
   "metadata": {},
   "outputs": [],
   "source": [
    "def stgp_poisson():\n",
    "    with open(\"ex1.yaml\") as config_file:\n",
    "        config_file_data = yaml.safe_load(config_file)\n",
    "\n",
    "    # generate mesh and dataset\n",
    "    mesh, _ = generate_line_mesh(num_nodes=11, L=1.)\n",
    "    S = build_complex_from_mesh(mesh)\n",
    "    S.get_hodge_star()\n",
    "    x = S.node_coords \n",
    "    num_nodes = S.num_nodes\n",
    "\n",
    "    # generate training and test datasets\n",
    "    # exact solution = x² \n",
    "    u = C.CochainP0(S, np.array(x[:,0]**2, dtype=dctkit.float_dtype))\n",
    "    # compute source term such that u solves the discrete Poisson equation \n",
    "    # Delta u + f = 0, where Delta is the discrete Laplace-de Rham operator\n",
    "    f = C.laplacian(u)\n",
    "    f.coeffs *= -1.\n",
    "    X_train = np.array([u.coeffs],dtype=dctkit.float_dtype)\n",
    "    y_train = np.array([f.coeffs], dtype=dctkit.float_dtype)\n",
    "\n",
    "    # initial guess for the unknown of the Poisson problem (cochain of nodals values)\n",
    "    u_0_vec = np.zeros(num_nodes, dtype=dctkit.float_dtype)\n",
    "    u_0 = C.CochainP0(S, u_0_vec)\n",
    "\n",
    "    # define primitive set for the residual of the discrete Poisson equation\n",
    "    pset = gp.PrimitiveSetTyped(\"RESIDUAL\", [C.CochainP0, C.CochainP0], C.CochainP0)\n",
    "\n",
    "    # rename arguments of the residual\n",
    "    pset.renameArguments(ARG0=\"u\")\n",
    "    pset.renameArguments(ARG1=\"f\")\n",
    "\n",
    "    penalty = config_file_data[\"gp\"][\"penalty\"]\n",
    "    common_params = {'S': S, 'u_0': u_0, 'penalty': penalty}\n",
    "\n",
    "    gpsr = gps.GPSymbolicRegressor(pset=pset, fitness=fitness.remote,\n",
    "                                    predict_func=predict.remote, common_data=common_params,\n",
    "                                    feature_extractors=[len],\n",
    "                                    print_log=True, \n",
    "                                    config_file_data=config_file_data)\n",
    "\n",
    "\n",
    "\n",
    "    param_names = ('X', 'y')\n",
    "\n",
    "    gpsr.fit(X_train, y_train, param_names)\n",
    "\n",
    "    u_best = gpsr.predict(X_train, y_train, param_names)\n",
    "\n",
    "    ray.shutdown()\n",
    "    plt.figure()\n",
    "    plt.plot(x[:,0], u.coeffs)\n",
    "    plt.plot(x[:,0], np.ravel(u_best), \"ro\")\n",
    "    plt.show()\n"
   ]
  },
  {
   "cell_type": "code",
   "execution_count": 6,
   "metadata": {},
   "outputs": [
    {
     "name": "stderr",
     "output_type": "stream",
     "text": [
      "Platform 'METAL' is experimental and not all JAX functionality may be correctly supported!\n",
      "2024-02-15 14:09:51.703007: W pjrt_plugin/src/mps_client.cc:563] WARNING: JAX Apple GPU support is experimental and not all JAX functionality is correctly supported!\n"
     ]
    },
    {
     "name": "stdout",
     "output_type": "stream",
     "text": [
      "Metal device set to: Apple M2 Pro\n",
      "\n",
      "systemMemory: 32.00 GB\n",
      "maxCacheSize: 10.67 GB\n",
      "\n"
     ]
    },
    {
     "name": "stderr",
     "output_type": "stream",
     "text": [
      "2024-02-15 14:09:54,567\tINFO worker.py:1636 -- Started a local Ray instance.\n"
     ]
    },
    {
     "name": "stdout",
     "output_type": "stream",
     "text": [
      "> MODEL TRAINING/SELECTION STARTED\n",
      "Generating initial population...\n",
      "DONE.\n",
      " -= START OF EVOLUTION =- \n",
      "Evaluating initial population...\n"
     ]
    },
    {
     "name": "stderr",
     "output_type": "stream",
     "text": [
      "\u001b[2m\u001b[36m(fitness pid=38676)\u001b[0m Platform 'METAL' is experimental and not all JAX functionality may be correctly supported!\n",
      "\u001b[2m\u001b[36m(fitness pid=38676)\u001b[0m 2024-02-15 14:09:56.874969: W pjrt_plugin/src/mps_client.cc:563] WARNING: JAX Apple GPU support is experimental and not all JAX functionality is correctly supported!\n"
     ]
    },
    {
     "name": "stdout",
     "output_type": "stream",
     "text": [
      "\u001b[2m\u001b[36m(fitness pid=38676)\u001b[0m Metal device set to: Apple M2 Pro\n",
      "\u001b[2m\u001b[36m(fitness pid=38676)\u001b[0m \n",
      "\u001b[2m\u001b[36m(fitness pid=38676)\u001b[0m systemMemory: 32.00 GB\n",
      "\u001b[2m\u001b[36m(fitness pid=38676)\u001b[0m maxCacheSize: 10.67 GB\n",
      "\u001b[2m\u001b[36m(fitness pid=38676)\u001b[0m \n",
      "DONE.\n",
      "   \t     \t           fitness           \t             size             \n",
      "   \t     \t-----------------------------\t------------------------------\n",
      "gen\tevals\tmin   \tavg   \tmax   \tstd  \tmin\tavg \tmax\tstd   \n",
      "1  \t100  \t0.9187\t3.0073\t3.3333\t0.278\t3  \t5.11\t11 \t1.9282\n",
      "The best individual of this generation is: AddCP0(SubCP0(f, u), St1D1(cobD0(delD1(St1P0(u)))))\n",
      "2  \t100  \t0.9187\t2.8402\t3.0333\t0.2064\t3  \t3.38\t9  \t0.9673\n",
      "The best individual of this generation is: AddCP0(SubCP0(f, u), St1D1(cobD0(delD1(St1P0(u)))))\n",
      "3  \t100  \t0.9187\t2.8122\t2.8333\t0.1913\t3  \t3.1 \t9  \t0.7141\n",
      "The best individual of this generation is: AddCP0(SubCP0(f, u), St1D1(cobD0(delD1(St1P0(u)))))\n",
      "4  \t100  \t0.7   \t2.7697\t2.8333\t0.3306\t3  \t3.3 \t11 \t1.245 \n",
      "The best individual of this generation is: AddCP0(f, St1D1(cobD0(delD1(St1P0(u)))))\n",
      "5  \t100  \t0.7   \t2.7658\t2.8333\t0.3309\t3  \t3.38\t11 \t1.3474\n",
      "The best individual of this generation is: AddCP0(f, St1D1(cobD0(delD1(St1P0(u)))))\n",
      "6  \t100  \t0.5   \t2.7181\t2.8333\t0.4486\t3  \t3.72\t27 \t2.7498\n",
      "The best individual of this generation is: AddCP0(f, delP1(cobP0(u)))\n",
      "7  \t100  \t0.5   \t2.6811\t2.8333\t0.5074\t3  \t4.11\t27 \t3.6902\n",
      "The best individual of this generation is: AddCP0(f, delP1(cobP0(u)))\n",
      "8  \t100  \t0.5   \t2.6153\t2.8333\t0.5941\t3  \t4.83\t27 \t4.9215\n",
      "The best individual of this generation is: AddCP0(f, delP1(cobP0(u)))\n",
      "9  \t100  \t0.5   \t2.5007\t2.8333\t0.706 \t3  \t6.07\t27 \t6.3675\n",
      "The best individual of this generation is: AddCP0(f, delP1(cobP0(u)))\n",
      "10 \t100  \t0.5   \t2.3521\t2.8333\t0.792 \t3  \t7.39\t27 \t7.1427\n",
      "The best individual of this generation is: AddCP0(f, delP1(cobP0(u)))\n",
      "11 \t100  \t0.5   \t2.0455\t2.8333\t0.901 \t3  \t9.48\t27 \t7.735 \n",
      "The best individual of this generation is: AddCP0(f, delP1(cobP0(u)))\n",
      "12 \t100  \t0.5   \t1.6219\t2.7187\t0.8647\t5  \t12.22\t27 \t7.4761\n",
      "The best individual of this generation is: AddCP0(f, delP1(cobP0(u)))\n",
      "13 \t100  \t0.5   \t0.9583\t2.3003\t0.4262\t5  \t9.1  \t19 \t3.4886\n",
      "The best individual of this generation is: AddCP0(f, delP1(cobP0(u)))\n",
      "14 \t100  \t0.5   \t0.6656\t0.9327\t0.154 \t5  \t6.6  \t9  \t1.4697\n",
      "The best individual of this generation is: AddCP0(f, delP1(cobP0(u)))\n",
      "15 \t100  \t0.5   \t0.572 \t0.7   \t0.096 \t5  \t5.72 \t7  \t0.96  \n",
      "The best individual of this generation is: AddCP0(f, delP1(cobP0(u)))\n",
      "16 \t100  \t0.5   \t0.514 \t0.7   \t0.051 \t5  \t5.14 \t7  \t0.5103\n",
      "The best individual of this generation is: AddCP0(f, delP1(cobP0(u)))\n",
      "17 \t100  \t0.5   \t0.5   \t0.5   \t0     \t5  \t5    \t5  \t0     \n",
      "The best individual of this generation is: AddCP0(f, delP1(cobP0(u)))\n",
      "18 \t100  \t0.5   \t0.5   \t0.5   \t0     \t5  \t5    \t5  \t0     \n",
      "The best individual of this generation is: AddCP0(f, delP1(cobP0(u)))\n",
      "19 \t100  \t0.5   \t0.5   \t0.5   \t0     \t5  \t5    \t5  \t0     \n",
      "The best individual of this generation is: AddCP0(f, delP1(cobP0(u)))\n",
      "20 \t100  \t0.5   \t0.5   \t0.5   \t0     \t5  \t5    \t5  \t0     \n",
      "The best individual of this generation is: AddCP0(f, delP1(cobP0(u)))\n",
      " -= END OF EVOLUTION =- \n",
      "> MODEL TRAINING/SELECTION COMPLETED\n",
      "The best individual is AddCP0(f, delP1(cobP0(u)))\n",
      "The best fitness on the training set is 0.5\n"
     ]
    },
    {
     "ename": "TypeError",
     "evalue": "the first argument must be callable",
     "output_type": "error",
     "traceback": [
      "\u001b[0;31m---------------------------------------------------------------------------\u001b[0m",
      "\u001b[0;31mTypeError\u001b[0m                                 Traceback (most recent call last)",
      "Cell \u001b[0;32mIn[6], line 1\u001b[0m\n\u001b[0;32m----> 1\u001b[0m \u001b[43mstgp_poisson\u001b[49m\u001b[43m(\u001b[49m\u001b[43m)\u001b[49m\n",
      "Cell \u001b[0;32mIn[5], line 50\u001b[0m, in \u001b[0;36mstgp_poisson\u001b[0;34m()\u001b[0m\n\u001b[1;32m     46\u001b[0m gpsr\u001b[38;5;241m.\u001b[39mfit(X_train, y_train, param_names)\n\u001b[1;32m     48\u001b[0m u_best \u001b[38;5;241m=\u001b[39m gpsr\u001b[38;5;241m.\u001b[39mpredict(X_train, y_train, param_names)\n\u001b[0;32m---> 50\u001b[0m \u001b[38;5;28mprint\u001b[39m(\u001b[43mgpsr\u001b[49m\u001b[38;5;241;43m.\u001b[39;49m\u001b[43mscore\u001b[49m\u001b[43m(\u001b[49m\u001b[43mX_train\u001b[49m\u001b[43m,\u001b[49m\u001b[43m \u001b[49m\u001b[43my_train\u001b[49m\u001b[43m,\u001b[49m\u001b[43m \u001b[49m\u001b[43mparam_names\u001b[49m\u001b[43m)\u001b[49m)\n\u001b[1;32m     52\u001b[0m ray\u001b[38;5;241m.\u001b[39mshutdown()\n\u001b[1;32m     53\u001b[0m plt\u001b[38;5;241m.\u001b[39mfigure()\n",
      "File \u001b[0;32m~/alpine/src/alpine/gp/gpsymbreg.py:464\u001b[0m, in \u001b[0;36mGPSymbolicRegressor.score\u001b[0;34m(self, X_test, y_test, param_names)\u001b[0m\n\u001b[1;32m    462\u001b[0m datasets \u001b[38;5;241m=\u001b[39m {\u001b[38;5;124m'\u001b[39m\u001b[38;5;124mtest\u001b[39m\u001b[38;5;124m'\u001b[39m: [X_test, y_test]}\n\u001b[1;32m    463\u001b[0m \u001b[38;5;28mself\u001b[39m\u001b[38;5;241m.\u001b[39mstore_datasets_params(param_names, datasets)\n\u001b[0;32m--> 464\u001b[0m \u001b[38;5;28;43mself\u001b[39;49m\u001b[38;5;241;43m.\u001b[39;49m\u001b[43m__register_score_func\u001b[49m\u001b[43m(\u001b[49m\u001b[43m)\u001b[49m\n\u001b[1;32m    465\u001b[0m score \u001b[38;5;241m=\u001b[39m \u001b[38;5;28mself\u001b[39m\u001b[38;5;241m.\u001b[39mtoolbox\u001b[38;5;241m.\u001b[39mmap(\u001b[38;5;28mself\u001b[39m\u001b[38;5;241m.\u001b[39mtoolbox\u001b[38;5;241m.\u001b[39mevaluate_test_score, (\u001b[38;5;28mself\u001b[39m\u001b[38;5;241m.\u001b[39mbest,))[\u001b[38;5;241m0\u001b[39m]\n\u001b[1;32m    466\u001b[0m \u001b[38;5;28;01mreturn\u001b[39;00m score\n",
      "File \u001b[0;32m~/alpine/src/alpine/gp/gpsymbreg.py:419\u001b[0m, in \u001b[0;36mGPSymbolicRegressor.__register_score_func\u001b[0;34m(self)\u001b[0m\n\u001b[1;32m    417\u001b[0m store \u001b[38;5;241m=\u001b[39m \u001b[38;5;28mself\u001b[39m\u001b[38;5;241m.\u001b[39mdata_store\n\u001b[1;32m    418\u001b[0m args_score_func \u001b[38;5;241m=\u001b[39m store[\u001b[38;5;124m'\u001b[39m\u001b[38;5;124mcommon\u001b[39m\u001b[38;5;124m'\u001b[39m] \u001b[38;5;241m|\u001b[39m store[\u001b[38;5;124m'\u001b[39m\u001b[38;5;124mtest\u001b[39m\u001b[38;5;124m'\u001b[39m]\n\u001b[0;32m--> 419\u001b[0m \u001b[38;5;28;43mself\u001b[39;49m\u001b[38;5;241;43m.\u001b[39;49m\u001b[43mtoolbox\u001b[49m\u001b[38;5;241;43m.\u001b[39;49m\u001b[43mregister\u001b[49m\u001b[43m(\u001b[49m\u001b[38;5;124;43m\"\u001b[39;49m\u001b[38;5;124;43mevaluate_test_score\u001b[39;49m\u001b[38;5;124;43m\"\u001b[39;49m\u001b[43m,\u001b[49m\n\u001b[1;32m    420\u001b[0m \u001b[43m                      \u001b[49m\u001b[38;5;28;43mself\u001b[39;49m\u001b[38;5;241;43m.\u001b[39;49m\u001b[43merror_metric\u001b[49m\u001b[43m,\u001b[49m\u001b[43m \u001b[49m\u001b[38;5;241;43m*\u001b[39;49m\u001b[38;5;241;43m*\u001b[39;49m\u001b[43margs_score_func\u001b[49m\u001b[43m)\u001b[49m\n",
      "File \u001b[0;32m~/deap/deap/base.py:81\u001b[0m, in \u001b[0;36mToolbox.register\u001b[0;34m(self, alias, function, *args, **kargs)\u001b[0m\n\u001b[1;32m     52\u001b[0m \u001b[38;5;28;01mdef\u001b[39;00m \u001b[38;5;21mregister\u001b[39m(\u001b[38;5;28mself\u001b[39m, alias, function, \u001b[38;5;241m*\u001b[39margs, \u001b[38;5;241m*\u001b[39m\u001b[38;5;241m*\u001b[39mkargs):\n\u001b[1;32m     53\u001b[0m \u001b[38;5;250m    \u001b[39m\u001b[38;5;124;03m\"\"\"Register a *function* in the toolbox under the name *alias*. You\u001b[39;00m\n\u001b[1;32m     54\u001b[0m \u001b[38;5;124;03m    may provide default arguments that will be passed automatically when\u001b[39;00m\n\u001b[1;32m     55\u001b[0m \u001b[38;5;124;03m    calling the registered function. Fixed arguments can then be overridden\u001b[39;00m\n\u001b[0;32m   (...)\u001b[0m\n\u001b[1;32m     79\u001b[0m \u001b[38;5;124;03m    with the original function's instance dictionary, if any.\u001b[39;00m\n\u001b[1;32m     80\u001b[0m \u001b[38;5;124;03m    \"\"\"\u001b[39;00m\n\u001b[0;32m---> 81\u001b[0m     pfunc \u001b[38;5;241m=\u001b[39m \u001b[43mpartial\u001b[49m\u001b[43m(\u001b[49m\u001b[43mfunction\u001b[49m\u001b[43m,\u001b[49m\u001b[43m \u001b[49m\u001b[38;5;241;43m*\u001b[39;49m\u001b[43margs\u001b[49m\u001b[43m,\u001b[49m\u001b[43m \u001b[49m\u001b[38;5;241;43m*\u001b[39;49m\u001b[38;5;241;43m*\u001b[39;49m\u001b[43mkargs\u001b[49m\u001b[43m)\u001b[49m\n\u001b[1;32m     82\u001b[0m     pfunc\u001b[38;5;241m.\u001b[39m\u001b[38;5;18m__name__\u001b[39m \u001b[38;5;241m=\u001b[39m alias\n\u001b[1;32m     83\u001b[0m     pfunc\u001b[38;5;241m.\u001b[39m\u001b[38;5;18m__doc__\u001b[39m \u001b[38;5;241m=\u001b[39m function\u001b[38;5;241m.\u001b[39m\u001b[38;5;18m__doc__\u001b[39m\n",
      "\u001b[0;31mTypeError\u001b[0m: the first argument must be callable"
     ]
    }
   ],
   "source": [
    "stgp_poisson()\n"
   ]
  },
  {
   "cell_type": "code",
   "execution_count": null,
   "metadata": {},
   "outputs": [],
   "source": []
  }
 ],
 "metadata": {
  "kernelspec": {
   "display_name": "Python 3 (ipykernel)",
   "language": "python",
   "name": "python3"
  },
  "language_info": {
   "codemirror_mode": {
    "name": "ipython",
    "version": 3
   },
   "file_extension": ".py",
   "mimetype": "text/x-python",
   "name": "python",
   "nbconvert_exporter": "python",
   "pygments_lexer": "ipython3",
   "version": "3.11.7"
  }
 },
 "nbformat": 4,
 "nbformat_minor": 4
}
