{
 "cells": [
  {
   "cell_type": "code",
   "execution_count": 1,
   "metadata": {},
   "outputs": [],
   "source": [
    "from dctkit.dec import cochain as C\n",
    "from dctkit.mesh.simplex import SimplicialComplex\n",
    "from dctkit.mesh.util import generate_line_mesh, build_complex_from_mesh\n",
    "from dctkit.math.opt import optctrl as oc\n",
    "import matplotlib.pyplot as plt\n",
    "from deap import gp\n",
    "from alpine.gp import gpsymbreg as gps\n",
    "from dctkit import config\n",
    "import dctkit\n",
    "import numpy as np\n",
    "import ray\n",
    "import math\n",
    "import yaml\n",
    "from typing import Tuple, Callable, List\n",
    "import numpy.typing as npt"
   ]
  },
  {
   "cell_type": "code",
   "execution_count": 2,
   "metadata": {},
   "outputs": [],
   "source": [
    "# choose precision and whether to use GPU or CPU\n",
    "# needed for context of the plots at the end of the evolution\n",
    "config()\n",
    "\n",
    "def eval_MSE_sol(residual: Callable, X: npt.NDArray, y: npt.NDArray,\n",
    "             S: SimplicialComplex, u_0: C.CochainP0) -> float:\n",
    "\n",
    "    num_nodes = X.shape[1]\n",
    "\n",
    "    # need to call config again before using JAX in energy evaluations to make sure that\n",
    "    # the current worker has initialized JAX\n",
    "    config()\n",
    "\n",
    "    # objective: squared norm of the residual of the equation + penalty on Dirichlet \n",
    "    # boundary condition on the first node\n",
    "    def obj(x, y):\n",
    "        penalty = 100.*x[0]**2\n",
    "        u = C.CochainP0(S, x)\n",
    "        f = C.CochainP0(S, y)\n",
    "        r = residual(u, f)\n",
    "        total_energy = C.inner_product(r, r) + penalty\n",
    "        return total_energy\n",
    "\n",
    "    prb = oc.OptimizationProblem(dim=num_nodes, state_dim=num_nodes, objfun=obj)\n",
    "\n",
    "    total_err = 0.\n",
    "\n",
    "    best_sols = []\n",
    "\n",
    "    for i, vec_y in enumerate(y):\n",
    "        # set additional arguments of the objective function (apart from the vector of unknowns)\n",
    "        args = {'y': vec_y}\n",
    "        prb.set_obj_args(args)\n",
    "\n",
    "        # minimize the objective\n",
    "        x = prb.solve(x0=u_0.coeffs, ftol_abs=1e-12, ftol_rel=1e-12, maxeval=1000)\n",
    "\n",
    "        if (prb.last_opt_result == 1 or prb.last_opt_result == 3\n",
    "                or prb.last_opt_result == 4):\n",
    "\n",
    "            current_err = np.linalg.norm(x-X[i, :])**2\n",
    "        else:\n",
    "            current_err = math.nan\n",
    "\n",
    "        if math.isnan(current_err):\n",
    "            total_err = 1e5\n",
    "            break\n",
    "\n",
    "        total_err += current_err\n",
    "\n",
    "        best_sols.append(x)\n",
    "\n",
    "    total_err *= 1/X.shape[0]\n",
    "\n",
    "    return total_err, best_sols"
   ]
  },
  {
   "cell_type": "code",
   "execution_count": 3,
   "metadata": {},
   "outputs": [],
   "source": [
    "@ray.remote\n",
    "def predict(individual: Callable, indlen: int, X: npt.NDArray, y: npt.NDArray,\n",
    "            S: SimplicialComplex, u_0: C.CochainP0, penalty: dict) -> List[npt.NDArray]:\n",
    "\n",
    "    _, best_sols = eval_MSE_sol(individual, X, y, S, u_0)\n",
    "\n",
    "    return best_sols"
   ]
  },
  {
   "cell_type": "code",
   "execution_count": 4,
   "metadata": {},
   "outputs": [],
   "source": [
    "@ray.remote\n",
    "def fitness(individual: Callable, indlen: int, X: npt.NDArray, y: npt.NDArray,\n",
    "                 S: SimplicialComplex, u_0: C.CochainP0, penalty: dict) -> Tuple[float, ]:\n",
    "\n",
    "    total_err, _ = eval_MSE_sol(individual, X, y, S, u_0)\n",
    "\n",
    "    # add penalty on length of the tree to promote simpler solutions\n",
    "    objval = total_err + penalty[\"reg_param\"]*indlen\n",
    "\n",
    "    return objval,"
   ]
  },
  {
   "cell_type": "code",
   "execution_count": 7,
   "metadata": {},
   "outputs": [],
   "source": [
    "def stgp_poisson():\n",
    "    with open(\"ex1.yaml\") as config_file:\n",
    "        config_file_data = yaml.safe_load(config_file)\n",
    "\n",
    "    # generate mesh and dataset\n",
    "    mesh, _ = generate_line_mesh(num_nodes=11, L=1.)\n",
    "    S = build_complex_from_mesh(mesh)\n",
    "    S.get_hodge_star()\n",
    "    x = S.node_coords \n",
    "    num_nodes = S.num_nodes\n",
    "\n",
    "    # generate training and test datasets\n",
    "    # exact solution = x² \n",
    "    u = C.CochainP0(S, np.array(x[:,0]**2, dtype=dctkit.float_dtype))\n",
    "    # compute source term such that u solves the discrete Poisson equation \n",
    "    # Delta u + f = 0, where Delta is the discrete Laplace-de Rham operator\n",
    "    f = C.laplacian(u)\n",
    "    f.coeffs *= -1.\n",
    "    X_train = np.array([u.coeffs],dtype=dctkit.float_dtype)\n",
    "    y_train = np.array([f.coeffs], dtype=dctkit.float_dtype)\n",
    "\n",
    "    # initial guess for the unknown of the Poisson problem (cochain of nodals values)\n",
    "    u_0_vec = np.zeros(num_nodes, dtype=dctkit.float_dtype)\n",
    "    u_0 = C.CochainP0(S, u_0_vec)\n",
    "\n",
    "    # define primitive set for the residual of the discrete Poisson equation\n",
    "    pset = gp.PrimitiveSetTyped(\"RESIDUAL\", [C.CochainP0, C.CochainP0], C.CochainP0)\n",
    "\n",
    "    # rename arguments of the residual\n",
    "    pset.renameArguments(ARG0=\"u\")\n",
    "    pset.renameArguments(ARG1=\"f\")\n",
    "\n",
    "    penalty = config_file_data[\"gp\"][\"penalty\"]\n",
    "    common_params = {'S': S, 'u_0': u_0, 'penalty': penalty}\n",
    "\n",
    "    gpsr = gps.GPSymbolicRegressor(pset=pset, fitness=fitness.remote,\n",
    "                                    predict_func=predict.remote, common_data=common_params,\n",
    "                                    feature_extractors=[len],\n",
    "                                    print_log=True, \n",
    "                                    config_file_data=config_file_data)\n",
    "\n",
    "\n",
    "\n",
    "    param_names = ('X', 'y')\n",
    "\n",
    "    gpsr.fit(X_train, y_train, param_names)\n",
    "\n",
    "    u_best = gpsr.predict(X_train, y_train, param_names)\n",
    "\n",
    "    ray.shutdown()\n",
    "    plt.figure()\n",
    "    plt.plot(x[:,0], u.coeffs)\n",
    "    plt.plot(x[:,0], np.ravel(u_best), \"ro\")\n",
    "    plt.show()\n"
   ]
  },
  {
   "cell_type": "code",
   "execution_count": 8,
   "metadata": {},
   "outputs": [
    {
     "name": "stderr",
     "output_type": "stream",
     "text": [
      "2024-02-15 13:44:41,696\tINFO worker.py:1636 -- Started a local Ray instance.\n"
     ]
    },
    {
     "name": "stdout",
     "output_type": "stream",
     "text": [
      "> MODEL TRAINING/SELECTION STARTED\n",
      "Generating initial population...\n",
      "DONE.\n",
      " -= START OF EVOLUTION =- \n",
      "Evaluating initial population...\n"
     ]
    },
    {
     "name": "stderr",
     "output_type": "stream",
     "text": [
      "\u001b[2m\u001b[36m(fitness pid=36444)\u001b[0m Platform 'METAL' is experimental and not all JAX functionality may be correctly supported!\n",
      "\u001b[2m\u001b[36m(fitness pid=36444)\u001b[0m 2024-02-15 13:44:44.346031: W pjrt_plugin/src/mps_client.cc:563] WARNING: JAX Apple GPU support is experimental and not all JAX functionality is correctly supported!\n"
     ]
    },
    {
     "name": "stdout",
     "output_type": "stream",
     "text": [
      "\u001b[2m\u001b[36m(fitness pid=36444)\u001b[0m Metal device set to: Apple M2 Pro\n",
      "\u001b[2m\u001b[36m(fitness pid=36444)\u001b[0m \n",
      "\u001b[2m\u001b[36m(fitness pid=36444)\u001b[0m systemMemory: 32.00 GB\n",
      "\u001b[2m\u001b[36m(fitness pid=36444)\u001b[0m maxCacheSize: 10.67 GB\n",
      "\u001b[2m\u001b[36m(fitness pid=36444)\u001b[0m \n",
      "DONE.\n",
      "   \t     \t           fitness            \t             size             \n",
      "   \t     \t------------------------------\t------------------------------\n",
      "gen\tevals\tmin   \tavg   \tmax   \tstd   \tmin\tavg \tmax\tstd   \n",
      "1  \t100  \t2.8333\t2.9527\t3.2333\t0.1457\t3  \t4.23\t9  \t1.5288\n",
      "The best individual of this generation is: delP1(cobP0(f))\n",
      "2  \t100  \t2.8333\t2.8333\t2.8333\t0     \t3  \t3   \t3  \t0     \n",
      "The best individual of this generation is: delP1(cobP0(f))\n",
      "3  \t100  \t2.8333\t2.8333\t2.8333\t0     \t3  \t3   \t3  \t0     \n",
      "The best individual of this generation is: delP1(cobP0(f))\n",
      "4  \t100  \t2.6399\t2.8314\t2.8333\t0.0192\t3  \t3.04\t7  \t0.398 \n",
      "The best individual of this generation is: AddCP0(MFP0(u, InnP0(f, f)), f)\n",
      "5  \t100  \t2.6399\t2.8314\t2.8333\t0.0192\t3  \t3.04\t7  \t0.398 \n",
      "The best individual of this generation is: AddCP0(MFP0(u, InnP0(f, f)), f)\n",
      "6  \t100  \t2.6399\t2.8294\t2.8333\t0.0271\t3  \t3.08\t7  \t0.56  \n",
      "The best individual of this generation is: AddCP0(MFP0(u, InnP0(f, f)), f)\n",
      "7  \t100  \t2.6399\t2.8275\t2.8333\t0.033 \t3  \t3.12\t7  \t0.6823\n",
      "The best individual of this generation is: AddCP0(MFP0(u, InnP0(f, f)), f)\n",
      "8  \t100  \t2.6399\t2.8217\t2.8333\t0.0459\t3  \t3.24\t7  \t0.9499\n",
      "The best individual of this generation is: AddCP0(MFP0(u, InnP0(f, f)), f)\n",
      "9  \t100  \t2.6399\t2.8217\t2.8333\t0.0459\t3  \t3.24\t7  \t0.9499\n",
      "The best individual of this generation is: AddCP0(MFP0(u, InnP0(f, f)), f)\n",
      "10 \t100  \t2.6399\t2.812 \t2.8333\t0.0605\t3  \t3.44\t7  \t1.2516\n",
      "The best individual of this generation is: AddCP0(MFP0(u, InnP0(f, f)), f)\n",
      "11 \t100  \t2.6399\t2.7985\t2.8333\t0.0743\t3  \t3.72\t7  \t1.5367\n",
      "The best individual of this generation is: AddCP0(MFP0(u, InnP0(f, f)), f)\n",
      "12 \t100  \t2.6399\t2.7811\t2.8333\t0.0859\t3  \t4.08\t7  \t1.7758\n",
      "The best individual of this generation is: AddCP0(MFP0(u, InnP0(f, f)), f)\n",
      "13 \t100  \t1.8774\t2.758 \t2.8333\t0.1272\t3  \t4.47\t14 \t2.1187\n",
      "The best individual of this generation is: SubCP0(f, delP1(SubCP1(St1D0(delD1(St1P0(u))), MFP1(cobP0(f), InnP0(u, f)))))\n",
      "14 \t100  \t0.5   \t2.7068\t2.8333\t0.2561\t3  \t5.11\t14 \t2.1995\n",
      "The best individual of this generation is: AddCP0(delP1(cobP0(u)), f)\n",
      "15 \t100  \t0.5   \t2.6529\t2.8333\t0.2721\t3  \t6.05\t14 \t2.2995\n",
      "The best individual of this generation is: AddCP0(delP1(cobP0(u)), f)\n",
      "16 \t100  \t0.5   \t2.6027\t2.8333\t0.2654\t3  \t7   \t14 \t1.7776\n",
      "The best individual of this generation is: AddCP0(delP1(cobP0(u)), f)\n",
      "17 \t100  \t0.5   \t2.4968\t2.6399\t0.4789\t5  \t7.27\t14 \t1.5928\n",
      "The best individual of this generation is: AddCP0(delP1(cobP0(u)), f)\n",
      "18 \t100  \t0.5   \t2.3652\t2.6399\t0.6365\t5  \t7.49\t16 \t2.1377\n",
      "The best individual of this generation is: AddCP0(delP1(cobP0(u)), f)\n",
      "19 \t100  \t0.5   \t2.1811\t2.6399\t0.7865\t5  \t7.56\t16 \t2.4752\n",
      "The best individual of this generation is: AddCP0(delP1(cobP0(u)), f)\n",
      "20 \t100  \t0.5   \t1.8757\t2.6399\t0.8666\t5  \t8.37\t20 \t3.4804\n",
      "The best individual of this generation is: AddCP0(delP1(cobP0(u)), f)\n",
      " -= END OF EVOLUTION =- \n",
      "> MODEL TRAINING/SELECTION COMPLETED\n",
      "The best individual is AddCP0(delP1(cobP0(u)), f)\n",
      "The best fitness on the training set is 0.5\n",
      "String of the best individual saved to disk.\n",
      "\u001b[2m\u001b[36m(fitness pid=36445)\u001b[0m Metal device set to: Apple M2 Pro\u001b[32m [repeated 9x across cluster]\u001b[0m\n",
      "\u001b[2m\u001b[36m(fitness pid=36445)\u001b[0m \u001b[32m [repeated 18x across cluster]\u001b[0m\n",
      "\u001b[2m\u001b[36m(fitness pid=36445)\u001b[0m systemMemory: 32.00 GB\u001b[32m [repeated 9x across cluster]\u001b[0m\n",
      "\u001b[2m\u001b[36m(fitness pid=36445)\u001b[0m maxCacheSize: 10.67 GB\u001b[32m [repeated 9x across cluster]\u001b[0m\n"
     ]
    },
    {
     "name": "stderr",
     "output_type": "stream",
     "text": [
      "\u001b[2m\u001b[36m(fitness pid=36445)\u001b[0m Platform 'METAL' is experimental and not all JAX functionality may be correctly supported!\u001b[32m [repeated 9x across cluster]\u001b[0m\n",
      "\u001b[2m\u001b[36m(fitness pid=36445)\u001b[0m 2024-02-15 13:44:44.348671: W pjrt_plugin/src/mps_client.cc:563] WARNING: JAX Apple GPU support is experimental and not all JAX functionality is correctly supported!\u001b[32m [repeated 9x across cluster]\u001b[0m\n"
     ]
    },
    {
     "data": {
      "image/png": "[encoded data removed]",
      "text/plain": [
       "<Figure size 640x480 with 1 Axes>"
      ]
     },
     "metadata": {},
     "output_type": "display_data"
    }
   ],
   "source": [
    "stgp_poisson()\n"
   ]
  },
  {
   "cell_type": "code",
   "execution_count": null,
   "metadata": {},
   "outputs": [],
   "source": []
  }
 ],
 "metadata": {
  "kernelspec": {
   "display_name": "Python 3 (ipykernel)",
   "language": "python",
   "name": "python3"
  },
  "language_info": {
   "codemirror_mode": {
    "name": "ipython",
    "version": 3
   },
   "file_extension": ".py",
   "mimetype": "text/x-python",
   "name": "python",
   "nbconvert_exporter": "python",
   "pygments_lexer": "ipython3",
   "version": "3.11.7"
  }
 },
 "nbformat": 4,
 "nbformat_minor": 4
}
