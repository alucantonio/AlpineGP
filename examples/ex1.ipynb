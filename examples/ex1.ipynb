{
 "cells": [
  {
   "cell_type": "code",
   "execution_count": 1,
   "metadata": {},
   "outputs": [
    {
     "name": "stderr",
     "output_type": "stream",
     "text": [
      "[nexus7:39518] mca_base_component_repository_open: unable to open mca_btl_openib: librdmacm.so.1: cannot open shared object file: No such file or directory (ignored)\n"
     ]
    }
   ],
   "source": [
    "from dctkit.dec import cochain as C\n",
    "from dctkit.mesh.simplex import SimplicialComplex\n",
    "from dctkit.mesh.util import generate_line_mesh, build_complex_from_mesh\n",
    "from dctkit.math.opt import optctrl as oc\n",
    "import matplotlib.pyplot as plt\n",
    "from deap import gp\n",
    "from alpine.gp import gpsymbreg as gps\n",
    "from dctkit import config\n",
    "import dctkit\n",
    "import numpy as np\n",
    "import ray\n",
    "import math\n",
    "import yaml\n",
    "from typing import Tuple, Callable, List\n",
    "import numpy.typing as npt"
   ]
  },
  {
   "cell_type": "code",
   "execution_count": 2,
   "metadata": {},
   "outputs": [],
   "source": [
    "# choose precision and whether to use GPU or CPU\n",
    "# needed for context of the plots at the end of the evolution\n",
    "config()\n",
    "\n",
    "def eval_MSE_sol(residual: Callable, X: npt.NDArray, y: npt.NDArray,\n",
    "             S: SimplicialComplex, u_0: C.CochainP0) -> float:\n",
    "\n",
    "    num_nodes = X.shape[1]\n",
    "\n",
    "    # need to call config again before using JAX in energy evaluations to make sure that\n",
    "    # the current worker has initialized JAX\n",
    "    config()\n",
    "\n",
    "    # objective: squared norm of the residual of the equation + penalty on Dirichlet \n",
    "    # boundary condition on the first node\n",
    "    def obj(x, y):\n",
    "        penalty = 100.*x[0]**2\n",
    "        u = C.CochainP0(S, x)\n",
    "        f = C.CochainP0(S, y)\n",
    "        r = residual(u, f)\n",
    "        total_energy = C.inner_product(r, r) + penalty\n",
    "        return total_energy\n",
    "\n",
    "    prb = oc.OptimizationProblem(dim=num_nodes, state_dim=num_nodes, objfun=obj)\n",
    "\n",
    "    total_err = 0.\n",
    "\n",
    "    best_sols = []\n",
    "\n",
    "    for i, vec_y in enumerate(y):\n",
    "        # set additional arguments of the objective function (apart from the vector of unknowns)\n",
    "        args = {'y': vec_y}\n",
    "        prb.set_obj_args(args)\n",
    "\n",
    "        # minimize the objective\n",
    "        x = prb.solve(x0=u_0.coeffs, ftol_abs=1e-12, ftol_rel=1e-12, maxeval=1000)\n",
    "\n",
    "        if (prb.last_opt_result == 1 or prb.last_opt_result == 3\n",
    "                or prb.last_opt_result == 4):\n",
    "\n",
    "            current_err = np.linalg.norm(x-X[i, :])**2\n",
    "        else:\n",
    "            current_err = math.nan\n",
    "\n",
    "        if math.isnan(current_err):\n",
    "            total_err = 1e5\n",
    "            break\n",
    "\n",
    "        total_err += current_err\n",
    "\n",
    "        best_sols.append(x)\n",
    "\n",
    "    total_err *= 1/X.shape[0]\n",
    "\n",
    "    return total_err, best_sols"
   ]
  },
  {
   "cell_type": "code",
   "execution_count": 3,
   "metadata": {},
   "outputs": [],
   "source": [
    "@ray.remote\n",
    "def eval_sols(individual: Callable, indlen: int, X: npt.NDArray, y: npt.NDArray,\n",
    "            S: SimplicialComplex, u_0: C.CochainP0, penalty: dict) -> List[npt.NDArray]:\n",
    "\n",
    "    _, best_sols = eval_MSE_sol(individual, X, y, S, u_0)\n",
    "\n",
    "    return best_sols"
   ]
  },
  {
   "cell_type": "code",
   "execution_count": 4,
   "metadata": {},
   "outputs": [],
   "source": [
    "@ray.remote\n",
    "def eval_fitness(individual: Callable, indlen: int, X: npt.NDArray, y: npt.NDArray,\n",
    "                 S: SimplicialComplex, u_0: C.CochainP0, penalty: dict) -> Tuple[float, ]:\n",
    "\n",
    "    total_err, _ = eval_MSE_sol(individual, X, y, S, u_0)\n",
    "\n",
    "    # add penalty on length of the tree to promote simpler solutions\n",
    "    objval = total_err + penalty[\"reg_param\"]*indlen\n",
    "\n",
    "    return objval,"
   ]
  },
  {
   "cell_type": "code",
   "execution_count": 5,
   "metadata": {},
   "outputs": [],
   "source": [
    "def stgp_poisson():\n",
    "    with open(\"ex1.yaml\") as config_file:\n",
    "        config_file_data = yaml.safe_load(config_file)\n",
    "\n",
    "    # generate mesh and dataset\n",
    "    mesh, _ = generate_line_mesh(num_nodes=11, L=1.)\n",
    "    S = build_complex_from_mesh(mesh)\n",
    "    S.get_hodge_star()\n",
    "    x = S.node_coords \n",
    "    num_nodes = S.num_nodes\n",
    "\n",
    "    # generate training and test datasets\n",
    "    # exact solution = x² \n",
    "    u = C.CochainP0(S, np.array(x[:,0]**2, dtype=dctkit.float_dtype))\n",
    "    # compute source term such that u solves the discrete Poisson equation \n",
    "    # Delta u + f = 0, where Delta is the discrete Laplace-de Rham operator\n",
    "    f = C.laplacian(u)\n",
    "    f.coeffs *= -1.\n",
    "    X_train = np.array([u.coeffs],dtype=dctkit.float_dtype)\n",
    "    y_train = np.array([f.coeffs], dtype=dctkit.float_dtype)\n",
    "\n",
    "    # initial guess for the unknown of the Poisson problem (cochain of nodals values)\n",
    "    u_0_vec = np.zeros(num_nodes, dtype=dctkit.float_dtype)\n",
    "    u_0 = C.CochainP0(S, u_0_vec)\n",
    "\n",
    "    # define primitive set for the residual of the discrete Poisson equation\n",
    "    pset = gp.PrimitiveSetTyped(\"RESIDUAL\", [C.CochainP0, C.CochainP0], C.CochainP0)\n",
    "\n",
    "    # rename arguments of the residual\n",
    "    pset.renameArguments(ARG0=\"u\")\n",
    "    pset.renameArguments(ARG1=\"f\")\n",
    "\n",
    "    GPprb = gps.GPSymbRegProblem(pset=pset, config_file_data=config_file_data)\n",
    "\n",
    "    penalty = config_file_data[\"gp\"][\"penalty\"]\n",
    "\n",
    "    # store shared objects refs\n",
    "\n",
    "    GPprb.store_eval_common_params({'S': S, 'u_0': u_0, 'penalty': penalty})\n",
    "    param_names = ('X', 'y')\n",
    "    datasets = {'train': [X_train, y_train], 'test': [X_train, y_train]}\n",
    "\n",
    "    GPprb.store_eval_dataset_params(param_names, datasets)\n",
    "\n",
    "    GPprb.register_eval_funcs(fitness=eval_fitness.remote, test_sols=eval_sols.remote)\n",
    "\n",
    "    feature_extractors = [len] \n",
    "    GPprb.register_map(feature_extractors)\n",
    "\n",
    "    GPprb.run(print_log=True, plot_best_individual_tree=False)\n",
    "\n",
    "    u_best = GPprb.toolbox.map(GPprb.toolbox.evaluate_test_sols, (GPprb.best,))[0]\n",
    "\n",
    "    ray.shutdown()\n",
    "    plt.figure()\n",
    "    plt.plot(x[:,0], u.coeffs)\n",
    "    plt.plot(x[:,0], np.ravel(u_best), \"ro\")\n",
    "    plt.show()\n"
   ]
  },
  {
   "cell_type": "code",
   "execution_count": 15,
   "metadata": {},
   "outputs": [
    {
     "name": "stderr",
     "output_type": "stream",
     "text": [
      "2024-02-12 14:54:22,288\tINFO worker.py:1724 -- Started a local Ray instance.\n"
     ]
    },
    {
     "name": "stdout",
     "output_type": "stream",
     "text": [
      "> MODEL TRAINING/SELECTION STARTED\n",
      "Generating initial population...\n",
      "DONE.\n",
      " -= START OF EVOLUTION =- \n",
      "Evaluating initial population...\n"
     ]
    },
    {
     "name": "stderr",
     "output_type": "stream",
     "text": [
      "\u001b[36m(pid=44718)\u001b[0m [nexus7:44718] mca_base_component_repository_open: unable to open mca_btl_openib: librdmacm.so.1: cannot open shared object file: No such file or directory (ignored)\n",
      "\u001b[36m(eval_fitness pid=44718)\u001b[0m 2024-02-12 14:54:23.520698: E external/xla/xla/stream_executor/cuda/cuda_driver.cc:273] failed call to cuInit: CUDA_ERROR_NO_DEVICE: no CUDA-capable device is detected\n",
      "\u001b[36m(eval_fitness pid=44718)\u001b[0m CUDA backend failed to initialize: FAILED_PRECONDITION: No visible GPU devices. (Set TF_CPP_MIN_LOG_LEVEL=0 and rerun for more info.)\n"
     ]
    },
    {
     "name": "stdout",
     "output_type": "stream",
     "text": [
      "DONE.\n",
      "   \t     \t           fitness           \t             size             \n",
      "   \t     \t-----------------------------\t------------------------------\n",
      "gen\tevals\tmin   \tavg   \tmax   \tstd  \tmin\tavg \tmax\tstd   \n",
      "1  \t100  \t2.7577\t2.9185\t3.2333\t0.114\t3  \t3.93\t10 \t1.2826\n",
      "The best individual of this generation is: delP1(AddCP1(MFP1(cobP0(u), InnP0(f, f)), cobP0(f)))\n",
      "2  \t100  \t2.7577\t2.8325\t2.8333\t0.0075\t3  \t3.07\t10 \t0.6965\n",
      "The best individual of this generation is: delP1(AddCP1(MFP1(cobP0(u), InnP0(f, f)), cobP0(f)))\n",
      "3  \t100  \t2.7577\t2.8325\t2.8333\t0.0075\t3  \t3.07\t10 \t0.6965\n",
      "The best individual of this generation is: delP1(AddCP1(MFP1(cobP0(u), InnP0(f, f)), cobP0(f)))\n",
      "4  \t100  \t2.7577\t2.8318\t2.8333\t0.0106\t3  \t3.14\t10 \t0.98  \n",
      "The best individual of this generation is: delP1(AddCP1(MFP1(cobP0(u), InnP0(f, f)), cobP0(f)))\n",
      "5  \t100  \t2.7577\t2.831 \t2.8333\t0.0129\t3  \t3.21\t10 \t1.1941\n",
      "The best individual of this generation is: delP1(AddCP1(MFP1(cobP0(u), InnP0(f, f)), cobP0(f)))\n",
      "6  \t100  \t0.7327\t2.8093\t2.8333\t0.2092\t3  \t3.32\t10 \t1.4204\n",
      "The best individual of this generation is: AddCP0(AddCP0(u, f), delP1(cobP0(u)))\n",
      "7  \t100  \t0.7327\t2.8078\t2.8333\t0.2093\t3  \t3.46\t10 \t1.6995\n",
      "The best individual of this generation is: AddCP0(AddCP0(u, f), delP1(cobP0(u)))\n",
      "8  \t100  \t0.7327\t2.7983\t2.8333\t0.2156\t3  \t3.72\t10 \t2.0692\n",
      "The best individual of this generation is: AddCP0(AddCP0(u, f), delP1(cobP0(u)))\n",
      "9  \t100  \t0.7327\t2.7953\t2.8333\t0.2157\t3  \t4   \t10 \t2.4   \n",
      "The best individual of this generation is: AddCP0(AddCP0(u, f), delP1(cobP0(u)))\n",
      "10 \t100  \t0.7327\t2.7665\t2.8333\t0.2991\t3  \t4.45\t10 \t2.7618\n",
      "The best individual of this generation is: AddCP0(AddCP0(u, f), delP1(cobP0(u)))\n",
      "11 \t100  \t0.7327\t2.69  \t2.8333\t0.4477\t3  \t5.2 \t14 \t3.2218\n",
      "The best individual of this generation is: AddCP0(AddCP0(u, f), delP1(cobP0(u)))\n",
      "12 \t100  \t0.7   \t2.5176\t2.8333\t0.6585\t3  \t6.29\t14 \t3.3832\n",
      "The best individual of this generation is: AddCP0(St1D1(St1P0(f)), delP1(cobP0(u)))\n",
      "13 \t100  \t0.5   \t2.3141\t2.8333\t0.8041\t3  \t7.59\t21 \t3.4615\n",
      "The best individual of this generation is: AddCP0(f, delP1(cobP0(u)))\n",
      "14 \t100  \t0.5   \t1.8873\t2.7577\t0.9063\t5  \t9.35\t21 \t2.1926\n",
      "The best individual of this generation is: AddCP0(f, delP1(cobP0(u)))\n",
      "15 \t100  \t0.5   \t1.3018\t2.7122\t0.7376\t5  \t8.89\t21 \t2.7781\n",
      "The best individual of this generation is: AddCP0(f, delP1(cobP0(u)))\n",
      "16 \t100  \t0.5   \t0.772 \t1.3   \t0.2095\t5  \t7.38\t13 \t1.8697\n",
      "The best individual of this generation is: AddCP0(f, delP1(cobP0(u)))\n",
      "17 \t100  \t0.5   \t0.6374\t0.7327\t0.1124\t5  \t6.2 \t7  \t0.9798\n",
      "The best individual of this generation is: AddCP0(f, delP1(cobP0(u)))\n",
      "18 \t100  \t0.5   \t0.5712\t0.7327\t0.1041\t5  \t5.64\t7  \t0.933 \n",
      "The best individual of this generation is: AddCP0(f, delP1(cobP0(u)))\n",
      "19 \t100  \t0.5   \t0.508 \t0.7   \t0.0392\t5  \t5.08\t7  \t0.3919\n",
      "The best individual of this generation is: AddCP0(f, delP1(cobP0(u)))\n",
      "20 \t100  \t0.5   \t0.5   \t0.5   \t0     \t5  \t5   \t5  \t0     \n",
      "The best individual of this generation is: AddCP0(f, delP1(cobP0(u)))\n",
      " -= END OF EVOLUTION =- \n",
      "> MODEL TRAINING/SELECTION COMPLETED\n",
      "The best individual is AddCP0(f, delP1(cobP0(u)))\n",
      "The best fitness on the training set is 0.5\n"
     ]
    },
    {
     "name": "stderr",
     "output_type": "stream",
     "text": [
      "\u001b[36m(pid=44695)\u001b[0m [nexus7:44695] mca_base_component_repository_open: unable to open mca_btl_openib: librdmacm.so.1: cannot open shared object file: No such file or directory (ignored)\u001b[32m [repeated 23x across cluster] (Ray deduplicates logs by default. Set RAY_DEDUP_LOGS=0 to disable log deduplication, or see https://docs.ray.io/en/master/ray-observability/ray-logging.html#log-deduplication for more options.)\u001b[0m\n",
      "\u001b[36m(eval_fitness pid=44706)\u001b[0m 2024-02-12 14:54:23.873825: E external/xla/xla/stream_executor/cuda/cuda_driver.cc:273] failed call to cuInit: CUDA_ERROR_NO_DEVICE: no CUDA-capable device is detected\u001b[32m [repeated 23x across cluster]\u001b[0m\n",
      "\u001b[36m(eval_fitness pid=44706)\u001b[0m CUDA backend failed to initialize: FAILED_PRECONDITION: No visible GPU devices. (Set TF_CPP_MIN_LOG_LEVEL=0 and rerun for more info.)\u001b[32m [repeated 23x across cluster]\u001b[0m\n"
     ]
    },
    {
     "data": {
      "image/png": "[encoded data removed]",
      "text/plain": [
       "<Figure size 640x480 with 1 Axes>"
      ]
     },
     "metadata": {},
     "output_type": "display_data"
    }
   ],
   "source": [
    "ray.shutdown()\n",
    "stgp_poisson()\n"
   ]
  },
  {
   "cell_type": "code",
   "execution_count": null,
   "metadata": {},
   "outputs": [],
   "source": []
  }
 ],
 "metadata": {
  "kernelspec": {
   "display_name": "Python 3 (ipykernel)",
   "language": "python",
   "name": "python3"
  },
  "language_info": {
   "codemirror_mode": {
    "name": "ipython",
    "version": 3
   },
   "file_extension": ".py",
   "mimetype": "text/x-python",
   "name": "python",
   "nbconvert_exporter": "python",
   "pygments_lexer": "ipython3",
   "version": "3.11.6"
  }
 },
 "nbformat": 4,
 "nbformat_minor": 4
}
