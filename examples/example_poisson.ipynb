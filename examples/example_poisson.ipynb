{
 "cells": [
  {
   "cell_type": "code",
   "execution_count": 1,
   "metadata": {},
   "outputs": [],
   "source": [
    "from dctkit.dec import cochain as C\n",
    "from dctkit.mesh.simplex import SimplicialComplex\n",
    "from dctkit.mesh.util import generate_line_mesh, build_complex_from_mesh\n",
    "from dctkit.math.opt import optctrl as oc\n",
    "import matplotlib.pyplot as plt\n",
    "from deap import gp\n",
    "from alpine.gp import gpsymbreg as gps\n",
    "from alpine.data import Dataset\n",
    "from dctkit import config\n",
    "import dctkit\n",
    "import numpy as np\n",
    "import ray\n",
    "import math\n",
    "import yaml\n",
    "from typing import Tuple, Callable, List\n",
    "import numpy.typing as npt"
   ]
  },
  {
   "cell_type": "code",
   "execution_count": 2,
   "metadata": {},
   "outputs": [],
   "source": [
    "# choose precision and whether to use GPU or CPU\n",
    "# needed for context of the plots at the end of the evolution\n",
    "config()\n",
    "\n",
    "def eval_MSE_sol(residual: Callable, D: Dataset, S: SimplicialComplex, u_0: C.CochainP0) -> float:\n",
    "\n",
    "    num_nodes = D.X.shape[1]\n",
    "\n",
    "    # need to call config again before using JAX in energy evaluations to make sure that\n",
    "    # the current worker has initialized JAX\n",
    "    config()\n",
    "\n",
    "\n",
    "    # objective: squared norm of the residual of the equation + penalty on Dirichlet \n",
    "    # boundary condition on the first node\n",
    "    def obj(x, y):\n",
    "        penalty = 100.*x[0]**2\n",
    "        u = C.CochainP0(S, x)\n",
    "        f = C.CochainP0(S, y)\n",
    "        r = residual(u, f)\n",
    "        total_energy = C.inner(r, r) + penalty\n",
    "        return total_energy\n",
    "\n",
    "    prb = oc.OptimizationProblem(dim=num_nodes, state_dim=num_nodes, objfun=obj)\n",
    "\n",
    "    total_err = 0.\n",
    "\n",
    "    best_sols = []\n",
    "\n",
    "    for i, curr_y in enumerate(D.y):\n",
    "        # set additional arguments of the objective function (apart from the vector of unknowns)\n",
    "        args = {'y': curr_y}\n",
    "        prb.set_obj_args(args)\n",
    "\n",
    "        # minimize the objective\n",
    "        x = prb.solve(x0=u_0.coeffs.flatten(), ftol_abs=1e-12, ftol_rel=1e-12, maxeval=1000)\n",
    "\n",
    "        if (prb.last_opt_result == 1 or prb.last_opt_result == 3\n",
    "                or prb.last_opt_result == 4):\n",
    "\n",
    "            current_err = np.linalg.norm(x-D.X[i, :])**2\n",
    "        else:\n",
    "            current_err = math.nan\n",
    "\n",
    "        if math.isnan(current_err):\n",
    "            total_err = 1e5\n",
    "            break\n",
    "\n",
    "        total_err += current_err\n",
    "\n",
    "        best_sols.append(x)\n",
    "\n",
    "    total_err *= 1/D.X.shape[0]\n",
    "\n",
    "    return total_err, best_sols"
   ]
  },
  {
   "cell_type": "code",
   "execution_count": 3,
   "metadata": {},
   "outputs": [],
   "source": [
    "@ray.remote\n",
    "def predict(individuals_batch: list[gp.PrimitiveSetTyped], toolbox, D: Dataset,\n",
    "            S: SimplicialComplex, u_0: C.CochainP0, penalty: dict) -> List[npt.NDArray]:\n",
    "\n",
    "    best_sols = [None]*len(individuals_batch)\n",
    "\n",
    "    for i, individual in enumerate(individuals_batch):\n",
    "        callable = toolbox.compile(expr=individual)\n",
    "        _, best_sols[i] = eval_MSE_sol(callable, D, S, u_0)\n",
    "\n",
    "    return best_sols"
   ]
  },
  {
   "cell_type": "code",
   "execution_count": 4,
   "metadata": {},
   "outputs": [],
   "source": [
    "@ray.remote\n",
    "def fitness(individuals_batch: list[gp.PrimitiveSetTyped], toolbox, D: Dataset,\n",
    "                 S: SimplicialComplex, u_0: C.CochainP0, penalty: dict) -> Tuple[float, ]:\n",
    "\n",
    "    objvals = [None]*len(individuals_batch)\n",
    "\n",
    "    for i, individual in enumerate(individuals_batch):\n",
    "        callable = toolbox.compile(expr=individual)\n",
    "        # add penalty on length of the tree to promote simpler solutions\n",
    "        objval, _ = eval_MSE_sol(callable, D, S, u_0) #+ penalty[\"reg_param\"]*indlen)\n",
    "        objvals[i] = (objval,)\n",
    "\n",
    "    return objvals"
   ]
  },
  {
   "cell_type": "code",
   "execution_count": 5,
   "metadata": {},
   "outputs": [],
   "source": [
    "def stgp_poisson():\n",
    "    with open(\"example_poisson.yaml\") as config_file:\n",
    "        config_file_data = yaml.safe_load(config_file)\n",
    "\n",
    "    # generate mesh and dataset\n",
    "    mesh, _ = generate_line_mesh(num_nodes=11, L=1.)\n",
    "    S = build_complex_from_mesh(mesh)\n",
    "    S.get_hodge_star()\n",
    "    x = S.node_coords \n",
    "    num_nodes = S.num_nodes\n",
    "\n",
    "    # generate training and test datasets\n",
    "    # exact solution = x² \n",
    "    u = C.CochainP0(S, np.array(x[:,0]**2, dtype=dctkit.float_dtype))\n",
    "    # compute source term such that u solves the discrete Poisson equation \n",
    "    # Delta u + f = 0, where Delta is the discrete Laplace-de Rham operator\n",
    "    f = C.laplacian(u)\n",
    "    f.coeffs *= -1.\n",
    "    X_train = np.array([u.coeffs.flatten()],dtype=dctkit.float_dtype)\n",
    "    y_train = np.array([f.coeffs.flatten()], dtype=dctkit.float_dtype)\n",
    "\n",
    "    # initial guess for the unknown of the Poisson problem (cochain of nodals values)\n",
    "    u_0_vec = np.zeros(num_nodes, dtype=dctkit.float_dtype)\n",
    "    u_0 = C.CochainP0(S, u_0_vec)\n",
    "\n",
    "    # define primitive set for the residual of the discrete Poisson equation\n",
    "    pset = gp.PrimitiveSetTyped(\"RESIDUAL\", [C.CochainP0, C.CochainP0], C.CochainP0)\n",
    "\n",
    "    # rename arguments of the residual\n",
    "    pset.renameArguments(ARG0=\"u\")\n",
    "    pset.renameArguments(ARG1=\"f\")\n",
    "\n",
    "    penalty = config_file_data[\"gp\"][\"penalty\"]\n",
    "    common_params = {'S': S, 'u_0': u_0, 'penalty': penalty}\n",
    "\n",
    "    gpsr = gps.GPSymbolicRegressor(pset=pset, fitness=fitness.remote,\n",
    "                                    predict_func=predict.remote, common_data=common_params,\n",
    "                                    print_log=True, \n",
    "                                    config_file_data=config_file_data)\n",
    "\n",
    "\n",
    "\n",
    "    train_data = Dataset(\"D\", X_train, y_train)\n",
    "    gpsr.fit(train_data)\n",
    "\n",
    "    u_best = gpsr.predict(train_data)\n",
    "\n",
    "    ray.shutdown()\n",
    "    plt.figure()\n",
    "    plt.plot(x[:,0], u.coeffs.flatten())\n",
    "    plt.plot(x[:,0], np.ravel(u_best), \"ro\")\n",
    "    plt.show()\n"
   ]
  },
  {
   "cell_type": "code",
   "execution_count": 6,
   "metadata": {},
   "outputs": [
    {
     "name": "stderr",
     "output_type": "stream",
     "text": [
      "An NVIDIA GPU may be present on this machine, but a CUDA-enabled jaxlib is not installed. Falling back to cpu.\n"
     ]
    },
    {
     "name": "stderr",
     "output_type": "stream",
     "text": [
      "2024-04-17 16:41:59,188\tINFO worker.py:1743 -- Started a local Ray instance. View the dashboard at \u001b[1m\u001b[32m127.0.0.1:8265 \u001b[39m\u001b[22m\n"
     ]
    },
    {
     "name": "stdout",
     "output_type": "stream",
     "text": [
      "Generating initial population(s)...\n",
      "DONE.\n",
      " -= START OF EVOLUTION =- \n",
      "Evaluating initial population(s)...\n"
     ]
    },
    {
     "name": "stderr",
     "output_type": "stream",
     "text": [
      "\u001b[36m(fitness pid=4116492)\u001b[0m An NVIDIA GPU may be present on this machine, but a CUDA-enabled jaxlib is not installed. Falling back to cpu.\n"
     ]
    },
    {
     "name": "stdout",
     "output_type": "stream",
     "text": [
      "DONE.\n",
      "   \t     \t           fitness            \t             size             \n",
      "   \t     \t------------------------------\t------------------------------\n",
      "gen\tevals\tmin   \tavg   \tmax   \tstd   \tmin\tavg \tmax\tstd   \n",
      "1  \t100  \t0.0327\t2.4773\t2.5333\t0.3542\t3  \t7.31\t19 \t4.0017\n",
      "Best individuals of this generation:\n",
      "AddCP0(AddCP0(f, u), delP1(cobP0(u)))\n",
      "2  \t100  \t0.0327\t2.4773\t2.5333\t0.3542\t3  \t7.31\t19 \t4.0017\n",
      "Best individuals of this generation:\n",
      "AddCP0(AddCP0(f, u), delP1(cobP0(u)))\n",
      "3  \t100  \t0.0327\t2.4737\t2.5333\t0.3555\t3  \t7.39\t19 \t3.9947\n",
      "Best individuals of this generation:\n",
      "AddCP0(AddCP0(f, u), delP1(cobP0(u)))\n",
      "4  \t100  \t0.0327\t2.4391\t2.5333\t0.4339\t3  \t7.66\t21 \t4.2993\n",
      "Best individuals of this generation:\n",
      "AddCP0(AddCP0(f, u), delP1(cobP0(u)))\n",
      "5  \t100  \t0.0327\t2.4063\t2.5333\t0.4473\t3  \t8.25\t23 \t4.6997\n",
      "Best individuals of this generation:\n",
      "AddCP0(AddCP0(f, u), delP1(cobP0(u)))\n",
      "6  \t100  \t0.0327\t2.3315\t2.5333\t0.4593\t3  \t9.82\t23 \t5.2314\n",
      "Best individuals of this generation:\n",
      "AddCP0(AddCP0(f, u), delP1(cobP0(u)))\n",
      "7  \t100  \t0     \t2.1711\t2.5333\t0.5892\t3  \t12.28\t23 \t4.8828\n",
      "Best individuals of this generation:\n",
      "AddCP0(f, delP1(cobP0(u)))\n",
      "EARLY STOPPING.\n",
      " -= END OF EVOLUTION =- \n",
      "The best individual is AddCP0(f, delP1(cobP0(u)))\n",
      "The best fitness on the training set is 0.0\n"
     ]
    },
    {
     "name": "stderr",
     "output_type": "stream",
     "text": [
      "\u001b[36m(fitness pid=4116478)\u001b[0m An NVIDIA GPU may be present on this machine, but a CUDA-enabled jaxlib is not installed. Falling back to cpu.\u001b[32m [repeated 23x across cluster] (Ray deduplicates logs by default. Set RAY_DEDUP_LOGS=0 to disable log deduplication, or see https://docs.ray.io/en/master/ray-observability/ray-logging.html#log-deduplication for more options.)\u001b[0m\n"
     ]
    },
    {
     "data": {
      "image/png": "[encoded data removed]",
      "text/plain": [
       "<Figure size 640x480 with 1 Axes>"
      ]
     },
     "metadata": {},
     "output_type": "display_data"
    }
   ],
   "source": [
    "stgp_poisson()\n"
   ]
  },
  {
   "cell_type": "code",
   "execution_count": null,
   "metadata": {},
   "outputs": [],
   "source": []
  },
  {
   "cell_type": "code",
   "execution_count": null,
   "metadata": {},
   "outputs": [],
   "source": []
  },
  {
   "cell_type": "code",
   "execution_count": null,
   "metadata": {},
   "outputs": [],
   "source": []
  },
  {
   "cell_type": "code",
   "execution_count": null,
   "metadata": {},
   "outputs": [],
   "source": []
  },
  {
   "cell_type": "code",
   "execution_count": null,
   "metadata": {},
   "outputs": [],
   "source": []
  }
 ],
 "metadata": {
  "kernelspec": {
   "display_name": "Python 3 (ipykernel)",
   "language": "python",
   "name": "python3"
  },
  "language_info": {
   "codemirror_mode": {
    "name": "ipython",
    "version": 3
   },
   "file_extension": ".py",
   "mimetype": "text/x-python",
   "name": "python",
   "nbconvert_exporter": "python",
   "pygments_lexer": "ipython3",
   "version": "3.10.14"
  }
 },
 "nbformat": 4,
 "nbformat_minor": 4
}
