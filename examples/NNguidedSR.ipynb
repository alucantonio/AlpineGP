{
 "cells": [
  {
   "cell_type": "code",
   "execution_count": 2,
   "id": "a1ebe75c-08a6-4b3c-9eb8-344dc9598aad",
   "metadata": {},
   "outputs": [],
   "source": [
    "from deap import gp\n",
    "import operator\n",
    "import math\n",
    "import numpy as np"
   ]
  },
  {
   "cell_type": "markdown",
   "id": "f049b724-830e-4644-8e10-b9f9b57c7b24",
   "metadata": {},
   "source": [
    "## Primitive set"
   ]
  },
  {
   "cell_type": "code",
   "execution_count": 3,
   "id": "39a9136f-e70a-4c70-a512-9d3c837c0a93",
   "metadata": {},
   "outputs": [],
   "source": [
    "def protectedDiv(left, right):\n",
    "    try:\n",
    "        return left / right\n",
    "    except ZeroDivisionError:\n",
    "        return 1\n",
    "\n",
    "pset = gp.PrimitiveSet(\"MAIN\", 1)\n",
    "pset.addPrimitive(operator.add, 2)\n",
    "pset.addPrimitive(operator.sub, 2)\n",
    "pset.addPrimitive(operator.mul, 2)\n",
    "pset.addPrimitive(protectedDiv, 2)\n",
    "pset.addPrimitive(math.cos, 1)\n",
    "\n",
    "pset.renameArguments(ARG0='x')"
   ]
  },
  {
   "cell_type": "markdown",
   "id": "d4e614af-f902-4c39-8494-7476a04e9f0b",
   "metadata": {},
   "source": [
    "## Helpers"
   ]
  },
  {
   "cell_type": "code",
   "execution_count": 82,
   "id": "b9970165-e9d1-493f-b56a-66c07d628049",
   "metadata": {},
   "outputs": [],
   "source": [
    "def generate_random_tree(pset):\n",
    "    expr = gp.genHalfAndHalf(pset, min_=1, max_=3)\n",
    "    tree = gp.PrimitiveTree(expr)\n",
    "    return tree\n",
    "\n",
    "def build_primitives_terminals_dict(pset):\n",
    "    prims = dict()\n",
    "    prims_funcs = list(pset.primitives.values())[0]\n",
    "    prims_names = [p.name for p in prims_funcs]\n",
    "    prims.update(zip(prims_names, prims_funcs))\n",
    "\n",
    "    # for arguments, add key = value = name to the dict\n",
    "    for arg in pset.arguments:\n",
    "        prims[str(arg)] = arg\n",
    "\n",
    "    return prims\n",
    "\n",
    "def tree_to_nodes_matrix(tree: gp.PrimitiveTree, pset: gp.PrimitiveSet, prims_names: list, n_nodes=0):\n",
    "    n_prims = pset.prims_count + len(pset.arguments)\n",
    "    if n_nodes == 0:\n",
    "        n_nodes = len(tree)\n",
    "    m = np.zeros((n_nodes, n_prims))\n",
    "\n",
    "    for i, prim in enumerate(tree):\n",
    "        prim_name = prim.name.replace('ARG0', 'x')\n",
    "        prim_idx = prims_names.index(prim_name)\n",
    "        m[i, prim_idx] = 1.\n",
    "    \n",
    "    return m\n",
    "\n",
    "def eval_fitness(tree, pset, points):\n",
    "    func = gp.compile(tree, pset)\n",
    "\n",
    "    sqerrors = ((func(x) - x**2)**2 for x in points)\n",
    "    return math.fsum(sqerrors) / len(points)\n",
    "\n",
    "def generate_dataset(n_samples, max_nodes, pset, points, prims_names):\n",
    "    n_prims = pset.prims_count + len(pset.arguments)\n",
    "    \n",
    "    X = np.zeros((n_samples, max_nodes*n_prims))\n",
    "    y = np.zeros((n_samples, 1))\n",
    "    \n",
    "    for i in range(n_samples):\n",
    "        tree = generate_random_tree(pset)\n",
    "        m = tree_to_nodes_matrix(tree, pset, prims_names, max_nodes).ravel()\n",
    "        X[i,:] = m\n",
    "        fit = eval_fitness(tree, pset, points)\n",
    "        if math.isnan(fit) or math.isinf(fit):\n",
    "            fit = 1e5\n",
    "        y[i,:] = fit\n",
    "\n",
    "    return X, y\n",
    "    \n",
    "    "
   ]
  },
  {
   "cell_type": "markdown",
   "id": "8b97c4d3-be8c-47e7-aa55-3f7388a9993e",
   "metadata": {},
   "source": [
    "## Generation of datasets"
   ]
  },
  {
   "cell_type": "code",
   "execution_count": 83,
   "id": "5c67ec91-c720-41c8-804e-24de7a927563",
   "metadata": {},
   "outputs": [
    {
     "name": "stdout",
     "output_type": "stream",
     "text": [
      "protectedDiv(x, x)\n"
     ]
    },
    {
     "data": {
      "text/plain": [
       "array([[0., 0., 0., 1., 0., 0.],\n",
       "       [0., 0., 0., 0., 0., 1.],\n",
       "       [0., 0., 0., 0., 0., 1.]])"
      ]
     },
     "execution_count": 83,
     "metadata": {},
     "output_type": "execute_result"
    }
   ],
   "source": [
    "tree = generate_random_tree(pset)\n",
    "print(tree)\n",
    "prims = build_primitives_terminals_dict(pset)\n",
    "tree_to_nodes_matrix(tree, pset, list(prims.keys()))"
   ]
  },
  {
   "cell_type": "code",
   "execution_count": 84,
   "id": "3f5251f4-9fb4-4db7-976b-2c18c4f380bf",
   "metadata": {},
   "outputs": [
    {
     "name": "stdout",
     "output_type": "stream",
     "text": [
      "[0.  0.1 0.2 0.3 0.4 0.5 0.6 0.7 0.8 0.9 1. ]\n"
     ]
    },
    {
     "name": "stderr",
     "output_type": "stream",
     "text": [
      "/tmp/ipykernel_34140/2793393697.py:3: RuntimeWarning: invalid value encountered in scalar divide\n",
      "  return left / right\n"
     ]
    },
    {
     "data": {
      "text/plain": [
       "nan"
      ]
     },
     "execution_count": 84,
     "metadata": {},
     "output_type": "execute_result"
    }
   ],
   "source": [
    "points = np.arange(0.,1.1,0.1)\n",
    "print(points)\n",
    "eval_fitness(tree, pset, points)"
   ]
  },
  {
   "cell_type": "code",
   "execution_count": 85,
   "id": "93b152ea-57ba-4813-9f78-865eb14f7bee",
   "metadata": {},
   "outputs": [],
   "source": [
    "from torch.utils.data import Dataset, DataLoader, random_split"
   ]
  },
  {
   "cell_type": "code",
   "execution_count": 91,
   "id": "e8f59060-6001-4a0d-afb0-2071ea14dd7f",
   "metadata": {},
   "outputs": [
    {
     "name": "stderr",
     "output_type": "stream",
     "text": [
      "/tmp/ipykernel_34140/2793393697.py:3: RuntimeWarning: invalid value encountered in scalar divide\n",
      "  return left / right\n"
     ]
    }
   ],
   "source": [
    "X, y = generate_dataset(10, 15, pset, points, list(prims.keys()))\n",
    "frac = 0.5\n",
    "X_train, X_valid = random_split(X, [frac, 1-frac])\n",
    "y_train, y_valid = random_split(y, [frac, 1-frac])"
   ]
  },
  {
   "cell_type": "code",
   "execution_count": 87,
   "id": "ba21cbe1-d707-4cdc-9e72-d0b240b05e21",
   "metadata": {},
   "outputs": [],
   "source": [
    "class CustomDataset(Dataset):\n",
    "    def __init__(self, X, y, transform=None, target_transform=None):\n",
    "        self.X = X\n",
    "        self.y = y\n",
    "        \n",
    "    def __len__(self):\n",
    "        return len(self.X)\n",
    "\n",
    "    def __getitem__(self, idx):\n",
    "        return X[idx,:], y[idx, 0]\n",
    "\n",
    "train_dataset = CustomDataset(X_train, y_train)\n",
    "train_dataloader = DataLoader(train_dataset)"
   ]
  },
  {
   "cell_type": "code",
   "execution_count": 196,
   "id": "b6826469-9c2d-408f-914e-813ad0eeb39c",
   "metadata": {
    "collapsed": true,
    "jupyter": {
     "outputs_hidden": true,
     "source_hidden": true
    },
    "scrolled": true
   },
   "outputs": [
    {
     "ename": "NameError",
     "evalue": "name 'creator' is not defined",
     "output_type": "error",
     "traceback": [
      "\u001b[0;31m---------------------------------------------------------------------------\u001b[0m",
      "\u001b[0;31mNameError\u001b[0m                                 Traceback (most recent call last)",
      "Cell \u001b[0;32mIn[196], line 1\u001b[0m\n\u001b[0;32m----> 1\u001b[0m \u001b[43mcreator\u001b[49m\u001b[38;5;241m.\u001b[39mcreate(\u001b[38;5;124m\"\u001b[39m\u001b[38;5;124mIndividual\u001b[39m\u001b[38;5;124m\"\u001b[39m, gp\u001b[38;5;241m.\u001b[39mPrimitiveTree)\n\u001b[1;32m      3\u001b[0m toolbox \u001b[38;5;241m=\u001b[39m base\u001b[38;5;241m.\u001b[39mToolbox()\n\u001b[1;32m      4\u001b[0m toolbox\u001b[38;5;241m.\u001b[39mregister(\u001b[38;5;124m\"\u001b[39m\u001b[38;5;124mexpr\u001b[39m\u001b[38;5;124m\"\u001b[39m, gp\u001b[38;5;241m.\u001b[39mgenHalfAndHalf, pset\u001b[38;5;241m=\u001b[39mpset, min_\u001b[38;5;241m=\u001b[39m\u001b[38;5;241m1\u001b[39m, max_\u001b[38;5;241m=\u001b[39m\u001b[38;5;241m2\u001b[39m)\n",
      "\u001b[0;31mNameError\u001b[0m: name 'creator' is not defined"
     ]
    }
   ],
   "source": [
    "creator.create(\"Individual\", gp.PrimitiveTree)\n",
    "\n",
    "toolbox = base.Toolbox()\n",
    "toolbox.register(\"expr\", gp.genHalfAndHalf, pset=pset, min_=1, max_=2)\n",
    "toolbox.register(\"individual\", tools.initIterate, creator.Individual, toolbox.expr)\n",
    "\n",
    "expr = toolbox.individual()\n",
    "nodes, edges, labels = gp.graph(expr)"
   ]
  }
 ],
 "metadata": {
  "kernelspec": {
   "display_name": "Python 3 (ipykernel)",
   "language": "python",
   "name": "python3"
  },
  "language_info": {
   "codemirror_mode": {
    "name": "ipython",
    "version": 3
   },
   "file_extension": ".py",
   "mimetype": "text/x-python",
   "name": "python",
   "nbconvert_exporter": "python",
   "pygments_lexer": "ipython3",
   "version": "3.11.5"
  }
 },
 "nbformat": 4,
 "nbformat_minor": 5
}
