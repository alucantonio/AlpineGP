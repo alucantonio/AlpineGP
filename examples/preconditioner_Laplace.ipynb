{
 "cells": [
  {
   "cell_type": "code",
   "execution_count": 30,
   "id": "5beb0598-4ff4-46ec-b69c-a17de8e602d6",
   "metadata": {},
   "outputs": [],
   "source": [
    "import dctkit as dt\n",
    "from dctkit import config\n",
    "from dctkit.mesh import util, simplex\n",
    "from dctkit.dec import cochain as C\n",
    "from dctkit.dec import vector as V\n",
    "from alpine.gp import gpsymbreg as gps\n",
    "from deap import gp\n",
    "import jax.numpy as jnp\n",
    "from jax import Array\n",
    "import numpy as np\n",
    "import scipy\n",
    "from scipy.sparse.linalg import cg, spilu, LinearOperator\n",
    "from typing import Callable, Tuple\n",
    "import numpy.typing as npt\n",
    "from time import perf_counter\n",
    "import ray\n",
    "import yaml"
   ]
  },
  {
   "cell_type": "code",
   "execution_count": 31,
   "id": "50114425-aa09-45f8-8a50-837b4911dca1",
   "metadata": {},
   "outputs": [],
   "source": [
    "config()"
   ]
  },
  {
   "cell_type": "code",
   "execution_count": 32,
   "id": "52188b52-2b63-4df4-8996-55780ed455d3",
   "metadata": {},
   "outputs": [],
   "source": [
    "def assemble_Laplace_operator(S: simplex.SimplicialComplex, k: C.CochainD1V = None) -> Array:\n",
    "    n = S.num_nodes\n",
    "    num_edges = S.S[1].shape[0]\n",
    "    coeffs = jnp.eye(n)\n",
    "    # build a vector-valued 0-cochain such that each 0-simplex has a one-hot vector\n",
    "    I = C.CochainP0V(S, coeffs)\n",
    "    #!!\n",
    "    if k is None:\n",
    "        k = C.CochainD1V(S, jnp.ones((num_edges, 1), dtype=dt.float_dtype))\n",
    "       \n",
    "    dI = C.coboundary(I)\n",
    "    # extract the matrix of the conformal Laplacian operator (d * k d)\n",
    "    A = C.coboundary(C.cochain_mul(k, C.star(dI))).coeffs\n",
    "    #A = C.coboundary(C.star(dI)).coeffs\n",
    "    return A\n",
    "\n",
    "def get_source_vector(S: simplex.SimplicialComplex) -> Array:\n",
    "    # source term of the equation Au + f = 0, with u = x² + y²\n",
    "    n = S.num_nodes\n",
    "    f_vec = -4.*jnp.ones(n, dtype=dt.float_dtype)\n",
    "    f = C.Cochain(0, True, S, f_vec)\n",
    "    b = -C.star(f).coeffs\n",
    "    return b"
   ]
  },
  {
   "cell_type": "code",
   "execution_count": 33,
   "id": "b61afac0-1ac2-46e5-8f51-fc61ef4c8ac6",
   "metadata": {},
   "outputs": [
    {
     "name": "stdout",
     "output_type": "stream",
     "text": [
      "139.18332114017858\n"
     ]
    }
   ],
   "source": [
    "print(np.linalg.cond(A))"
   ]
  },
  {
   "cell_type": "code",
   "execution_count": 34,
   "id": "29cec0c8-8e08-4391-8afc-8270cdd9612f",
   "metadata": {},
   "outputs": [
    {
     "name": "stdout",
     "output_type": "stream",
     "text": [
      "[[-3.46410162  0.          0.         ...  0.          0.\n",
      "   0.        ]\n",
      " [ 0.         -3.39561079  0.         ...  0.          0.\n",
      "   0.        ]\n",
      " [ 0.          0.         -3.46529762 ...  0.          0.\n",
      "   0.        ]\n",
      " ...\n",
      " [ 0.          0.          0.         ... -3.66513687  0.\n",
      "   0.        ]\n",
      " [ 0.          0.          0.         ...  0.         -3.66716746\n",
      "   0.        ]\n",
      " [ 0.          0.          0.         ...  0.          0.\n",
      "  -3.67996542]]\n"
     ]
    }
   ],
   "source": [
    "# Jacobi preconditioner\n",
    "P = np.diag(np.diag(A))\n",
    "print(P)"
   ]
  },
  {
   "cell_type": "code",
   "execution_count": null,
   "id": "bfff2823-e79b-40b8-921d-dbe67e64df1b",
   "metadata": {},
   "outputs": [],
   "source": []
  },
  {
   "cell_type": "code",
   "execution_count": 35,
   "id": "decfe6de-8398-4429-bfff-15f9b106bada",
   "metadata": {},
   "outputs": [],
   "source": [
    "#@ray.remote(num_cpus=2)\n",
    "def eval_precond_performance(individual: Callable, x01: C.CochainD1V, x11: C.CochainD1V, bnd_nodes: list,\n",
    "                             S: simplex.SimplicialComplex, u_true: npt.NDArray, idx_last_bnd_node: int,\n",
    "                             A: npt.NDArray, b: npt.NDArray) -> Tuple[int, float]:\n",
    "    iter = 0\n",
    "    # callback function as a counter of iterations\n",
    "    def callback(kk):\n",
    "        nonlocal iter\n",
    "        iter += 1\n",
    "\n",
    "    # build the preconditioner and start timing (NOTE: should average)\n",
    "    tic = perf_counter()\n",
    "    if individual is not None:\n",
    "        #print(\"Using preconditioner...\")\n",
    "        k = individual(x01, x11)\n",
    "        P = assemble_Laplace_operator(S, k)\n",
    "        P = jnp.delete(P, np.array(bnd_nodes), axis=0)\n",
    "        P = jnp.delete(P, np.array(bnd_nodes), axis=1)\n",
    "        P = P.__array__()\n",
    "    else:\n",
    "        P = None\n",
    "\n",
    "    # solve the system\n",
    "    x, _ = cg(A, b, callback=callback, M=P, tol=0., atol=1e-7, maxiter=1000)\n",
    "    toc = perf_counter()\n",
    "    \n",
    "    error = np.linalg.norm(x-u_true[idx_last_bnd_node+1:])**2\n",
    "    \n",
    "    return iter, toc-tic\n",
    "\n",
    "#def eval_MSE(individual: Callable, indlen: int, X: npt.NDArray, y: npt.NDArray,\n",
    "#             bvalues: dict, S: SimplicialComplex, bnodes: npt.NDArray,\n",
    "#             gamma: float, u_0: npt.NDArray, penalty: dict) -> float:\n",
    "#\n",
    "#    MSE, _ = eval_MSE_sol(individual, indlen, X, y, bvalues, S, bnodes, gamma, u_0)\n",
    "#\n",
    "#    return MSE\n",
    "\n",
    "\n",
    "@ray.remote(num_cpus=2)\n",
    "def fitness(individual: Callable, x01: C.CochainD1V, x11: C.CochainD1V, bnd_nodes: list,\n",
    "            S: simplex.SimplicialComplex, u_true: npt.NDArray, idx_last_bnd_node: int,\n",
    "            A: npt.NDArray, b: npt.NDArray) -> Tuple[float, ]:\n",
    "\n",
    "    iter, _ = eval_precond_performance(individual, x01, x11, bnd_nodes, S, u_true, idx_last_bnd_node, A, b)\n",
    "    \n",
    "    fitness = iter\n",
    "\n",
    "    return fitness,"
   ]
  },
  {
   "cell_type": "code",
   "execution_count": null,
   "id": "2d53bb3d-ce3d-41c4-9190-8f0a1cf0d4c6",
   "metadata": {},
   "outputs": [],
   "source": []
  },
  {
   "cell_type": "code",
   "execution_count": 40,
   "id": "b50dd627-cff9-415d-95ba-37571d3b19d9",
   "metadata": {},
   "outputs": [],
   "source": [
    "def stgp_Laplace_preconditioner():\n",
    "    with open(\"precond.yaml\") as config_file:\n",
    "        config_file_data = yaml.safe_load(config_file)\n",
    "    \n",
    "    # generate mesh and simplicial complex\n",
    "    mesh, _ = util.generate_square_mesh(0.05)\n",
    "    S = util.build_complex_from_mesh(mesh, is_well_centered=True)\n",
    "    S.get_hodge_star()\n",
    "    S.get_flat_PDP_weights()\n",
    "    n = S.num_nodes\n",
    "    bnd_nodes = util.get_nodes_for_physical_group(mesh, 1, \"boundary\")\n",
    "    idx_last_bnd_node = int(bnd_nodes[-1])\n",
    "    node_coord = S.node_coords\n",
    "    print(\"Number of nodes = \", n)\n",
    "\n",
    "    # build 0-cochains of the node coordinates\n",
    "    x0 = C.CochainP0(S, jnp.array(S.node_coords[:,0].ravel(), dtype=dt.float_dtype))\n",
    "    x1 = C.CochainP0(S, jnp.array(S.node_coords[:,1].ravel(), dtype=dt.float_dtype))\n",
    "    # convert them into dual vector-valued 1-cochains (maybe reshape could be done inside the assemble function and define these as scalar-valued dual 1-coch)\n",
    "    x01 = C.star(V.flat_PDP(x0))\n",
    "    x11 = C.star(V.flat_PDP(x1))\n",
    "    x01.coeffs = x01.coeffs.reshape(-1,1)\n",
    "    x11.coeffs = x11.coeffs.reshape(-1,1)\n",
    "    \n",
    "    # define true solution for the discrete problem Au + f = 0\n",
    "    u_true = np.array(node_coord[:, 0]**2 + node_coord[:, 1]**2, dtype=dt.float_dtype)\n",
    "    ub = u_true[bnd_nodes]\n",
    "\n",
    "    A = assemble_Laplace_operator(S)\n",
    "    b = get_source_vector(S)\n",
    "    Ab = A[idx_last_bnd_node+1:,:idx_last_bnd_node+1]\n",
    "    # sanity check\n",
    "    #x = scipy.linalg.solve(A,b)\n",
    "    #print(x)\n",
    "    #print(u_true[idx_last_bnd_node+1:])\n",
    "    \n",
    "    # apply Dirichlet BC and reduce the system to the unknown values of u\n",
    "    A = jnp.delete(A, np.array(bnd_nodes), axis=0)\n",
    "    A = jnp.delete(A, np.array(bnd_nodes), axis=1)\n",
    "    b = jnp.delete(b, np.array(bnd_nodes))\n",
    "    b -= Ab @ ub\n",
    "\n",
    "    # convert jax arrays to numpy (for use with scipy)\n",
    "    A = A.__array__()\n",
    "    b = b.__array__()\n",
    "    \n",
    "    pset = gp.PrimitiveSetTyped(\"MAIN\", [C.CochainD1V, C.CochainD1V], C.CochainD1V)\n",
    "    # ones cochain\n",
    "    pset.addTerminal(C.Cochain(S.num_nodes, True, S, np.ones(S.num_nodes, dtype=dt.float_dtype)), C.Cochain, name=\"ones\")\n",
    "    \n",
    "    # add constants\n",
    "    pset.addTerminal(0.5, float, name=\"1/2\")\n",
    "    pset.addTerminal(-1., float, name=\"-1.\")\n",
    "    pset.addTerminal(2., float, name=\"2.\")\n",
    "    # rename arguments\n",
    "    pset.renameArguments(ARG0=\"x0\")\n",
    "    pset.renameArguments(ARG1=\"x1\")\n",
    "\n",
    "    # create symbolic regression problem instance\n",
    "    GPprb = gps.GPSymbRegProblem(pset=pset, config_file_data=config_file_data)\n",
    "\n",
    "    GPprb.store_eval_common_params({'S': S, 'x01': x01, 'x11': x11, 'bnd_nodes': bnd_nodes,\n",
    "                                    'u_true': u_true, 'idx_last_bnd_node': idx_last_bnd_node, \n",
    "                                    'A': A, 'b': b})\n",
    "\n",
    "    #params_names = ('A', 'b', 'bvalues')\n",
    "    #datasets = {'train': [X_train, y_train, bvalues_train],\n",
    "    #            'val': [X_val, y_val, bvalues_val],\n",
    "    #            'test': [X_test, y_test, bvalues_test]}\n",
    "    #GPprb.store_eval_dataset_params(params_names, datasets)\n",
    "\n",
    "#    GPprb.register_eval_funcs(fitness=eval_fitness.remote, error_metric=eval_MSE.remote,\n",
    "#                              test_sols=eval_best_sols.remote)\n",
    "\n",
    "#    GPprb.register_map([])\n",
    "\n",
    "    #start = time.perf_counter()\n",
    "    # opt_string = \"SquareF(InnP0(InvMulP0(u, InnP0(u, fk)), delP1(dP0(u))))\"\n",
    "    # opt_string = \"SubF(InnP1(cobP0(u), cobP0(u)), MulF(2., InnP0(f, u)))\"\n",
    "    # opt_individ = creator.Individual.from_string(opt_string, pset)\n",
    "    # seed = [opt_individ]\n",
    "\n",
    "    #GPprb.run(print_log=True, seed=None,\n",
    "    #          save_best_individual=True, save_train_fit_history=True,\n",
    "    #          save_best_test_sols=True, X_test_param_name=\"X\",\n",
    "    #          output_path=output_path)\n",
    "\n",
    "    #print(f\"Elapsed time: {round(time.perf_counter() - start, 2)}\")"
   ]
  },
  {
   "cell_type": "code",
   "execution_count": 41,
   "id": "1bd7a1ce-e207-4167-a9d8-8e186fd82ff6",
   "metadata": {},
   "outputs": [
    {
     "name": "stdout",
     "output_type": "stream",
     "text": [
      "Number of nodes =  513\n"
     ]
    },
    {
     "ename": "TypeError",
     "evalue": "unhashable type: 'dict'",
     "output_type": "error",
     "traceback": [
      "\u001b[0;31m---------------------------------------------------------------------------\u001b[0m",
      "\u001b[0;31mTypeError\u001b[0m                                 Traceback (most recent call last)",
      "Cell \u001b[0;32mIn[41], line 1\u001b[0m\n\u001b[0;32m----> 1\u001b[0m \u001b[43mstgp_Laplace_preconditioner\u001b[49m\u001b[43m(\u001b[49m\u001b[43m)\u001b[49m\n",
      "Cell \u001b[0;32mIn[40], line 60\u001b[0m, in \u001b[0;36mstgp_Laplace_preconditioner\u001b[0;34m()\u001b[0m\n\u001b[1;32m     57\u001b[0m pset\u001b[38;5;241m.\u001b[39mrenameArguments(ARG1\u001b[38;5;241m=\u001b[39m\u001b[38;5;124m\"\u001b[39m\u001b[38;5;124mx1\u001b[39m\u001b[38;5;124m\"\u001b[39m)\n\u001b[1;32m     59\u001b[0m \u001b[38;5;66;03m# create symbolic regression problem instance\u001b[39;00m\n\u001b[0;32m---> 60\u001b[0m GPprb \u001b[38;5;241m=\u001b[39m \u001b[43mgps\u001b[49m\u001b[38;5;241;43m.\u001b[39;49m\u001b[43mGPSymbRegProblem\u001b[49m\u001b[43m(\u001b[49m\u001b[43mpset\u001b[49m\u001b[38;5;241;43m=\u001b[39;49m\u001b[43mpset\u001b[49m\u001b[43m,\u001b[49m\u001b[43m \u001b[49m\u001b[43mconfig_file_data\u001b[49m\u001b[38;5;241;43m=\u001b[39;49m\u001b[43mconfig_file_data\u001b[49m\u001b[43m)\u001b[49m\n\u001b[1;32m     62\u001b[0m GPprb\u001b[38;5;241m.\u001b[39mstore_eval_common_params({\u001b[38;5;124m'\u001b[39m\u001b[38;5;124mS\u001b[39m\u001b[38;5;124m'\u001b[39m: S, \u001b[38;5;124m'\u001b[39m\u001b[38;5;124mx01\u001b[39m\u001b[38;5;124m'\u001b[39m: x01, \u001b[38;5;124m'\u001b[39m\u001b[38;5;124mx11\u001b[39m\u001b[38;5;124m'\u001b[39m: x11, \u001b[38;5;124m'\u001b[39m\u001b[38;5;124mbnd_nodes\u001b[39m\u001b[38;5;124m'\u001b[39m: bnd_nodes,\n\u001b[1;32m     63\u001b[0m                                 \u001b[38;5;124m'\u001b[39m\u001b[38;5;124mu_true\u001b[39m\u001b[38;5;124m'\u001b[39m: u_true, \u001b[38;5;124m'\u001b[39m\u001b[38;5;124midx_last_bnd_node\u001b[39m\u001b[38;5;124m'\u001b[39m: idx_last_bnd_node, \n\u001b[1;32m     64\u001b[0m                                 \u001b[38;5;124m'\u001b[39m\u001b[38;5;124mA\u001b[39m\u001b[38;5;124m'\u001b[39m: A, \u001b[38;5;124m'\u001b[39m\u001b[38;5;124mb\u001b[39m\u001b[38;5;124m'\u001b[39m: b})\n",
      "File \u001b[0;32m~/alpine/src/alpine/gp/gpsymbreg.py:59\u001b[0m, in \u001b[0;36mGPSymbRegProblem.__init__\u001b[0;34m(self, pset, toolbox, individualCreator, NINDIVIDUALS, NGEN, CXPB, MUTPB, frac_elitist, overlapping_generation, parsimony_pressure, tournsize, stochastic_tournament, config_file_data, use_ray)\u001b[0m\n\u001b[1;32m     56\u001b[0m \u001b[38;5;28mself\u001b[39m\u001b[38;5;241m.\u001b[39mpset \u001b[38;5;241m=\u001b[39m pset\n\u001b[1;32m     58\u001b[0m \u001b[38;5;28;01mif\u001b[39;00m config_file_data \u001b[38;5;129;01mis\u001b[39;00m \u001b[38;5;129;01mnot\u001b[39;00m \u001b[38;5;28;01mNone\u001b[39;00m:\n\u001b[0;32m---> 59\u001b[0m     \u001b[38;5;28;43mself\u001b[39;49m\u001b[38;5;241;43m.\u001b[39;49m\u001b[43mload_config_data\u001b[49m\u001b[43m(\u001b[49m\u001b[43mconfig_file_data\u001b[49m\u001b[43m)\u001b[49m\n\u001b[1;32m     60\u001b[0m \u001b[38;5;28;01melse\u001b[39;00m:\n\u001b[1;32m     61\u001b[0m     \u001b[38;5;28mself\u001b[39m\u001b[38;5;241m.\u001b[39mNINDIVIDUALS \u001b[38;5;241m=\u001b[39m NINDIVIDUALS\n",
      "File \u001b[0;32m~/alpine/src/alpine/gp/gpsymbreg.py:175\u001b[0m, in \u001b[0;36mGPSymbRegProblem.load_config_data\u001b[0;34m(self, config_file_data)\u001b[0m\n\u001b[1;32m    171\u001b[0m \u001b[38;5;28mself\u001b[39m\u001b[38;5;241m.\u001b[39mtournsize \u001b[38;5;241m=\u001b[39m config_file_data[\u001b[38;5;124m\"\u001b[39m\u001b[38;5;124mgp\u001b[39m\u001b[38;5;124m\"\u001b[39m][\u001b[38;5;124m\"\u001b[39m\u001b[38;5;124mselect\u001b[39m\u001b[38;5;124m\"\u001b[39m][\u001b[38;5;124m\"\u001b[39m\u001b[38;5;124mtournsize\u001b[39m\u001b[38;5;124m\"\u001b[39m]\n\u001b[1;32m    172\u001b[0m \u001b[38;5;28mself\u001b[39m\u001b[38;5;241m.\u001b[39mstochastic_tournament \u001b[38;5;241m=\u001b[39m \\\n\u001b[1;32m    173\u001b[0m     config_file_data[\u001b[38;5;124m\"\u001b[39m\u001b[38;5;124mgp\u001b[39m\u001b[38;5;124m\"\u001b[39m][\u001b[38;5;124m\"\u001b[39m\u001b[38;5;124mselect\u001b[39m\u001b[38;5;124m\"\u001b[39m][\u001b[38;5;124m\"\u001b[39m\u001b[38;5;124mstochastic_tournament\u001b[39m\u001b[38;5;124m\"\u001b[39m]\n\u001b[0;32m--> 175\u001b[0m \u001b[43maddPrimitivesToPset\u001b[49m\u001b[43m(\u001b[49m\u001b[38;5;28;43mself\u001b[39;49m\u001b[38;5;241;43m.\u001b[39;49m\u001b[43mpset\u001b[49m\u001b[43m,\u001b[49m\u001b[43m \u001b[49m\u001b[43mconfig_file_data\u001b[49m\u001b[43m[\u001b[49m\u001b[38;5;124;43m\"\u001b[39;49m\u001b[38;5;124;43mgp\u001b[39;49m\u001b[38;5;124;43m\"\u001b[39;49m\u001b[43m]\u001b[49m\u001b[43m[\u001b[49m\u001b[38;5;124;43m'\u001b[39;49m\u001b[38;5;124;43mprimitives\u001b[39;49m\u001b[38;5;124;43m'\u001b[39;49m\u001b[43m]\u001b[49m\u001b[43m)\u001b[49m\n\u001b[1;32m    177\u001b[0m \u001b[38;5;28mself\u001b[39m\u001b[38;5;241m.\u001b[39m__creator_toolbox_config(config_file_data\u001b[38;5;241m=\u001b[39mconfig_file_data)\n\u001b[1;32m    179\u001b[0m \u001b[38;5;28mself\u001b[39m\u001b[38;5;241m.\u001b[39mearly_stopping \u001b[38;5;241m=\u001b[39m config_file_data[\u001b[38;5;124m\"\u001b[39m\u001b[38;5;124mgp\u001b[39m\u001b[38;5;124m\"\u001b[39m][\u001b[38;5;124m\"\u001b[39m\u001b[38;5;124mearly_stopping\u001b[39m\u001b[38;5;124m\"\u001b[39m]\n",
      "File \u001b[0;32m~/alpine/src/alpine/gp/primitives.py:199\u001b[0m, in \u001b[0;36maddPrimitivesToPset\u001b[0;34m(pset, primitive_names)\u001b[0m\n\u001b[1;32m    196\u001b[0m     primitive_names \u001b[38;5;241m=\u001b[39m \u001b[38;5;28mlist\u001b[39m(primitives\u001b[38;5;241m.\u001b[39mkeys())\n\u001b[1;32m    198\u001b[0m \u001b[38;5;28;01mfor\u001b[39;00m primitive \u001b[38;5;129;01min\u001b[39;00m primitive_names:\n\u001b[0;32m--> 199\u001b[0m     op \u001b[38;5;241m=\u001b[39m \u001b[43mprimitives\u001b[49m\u001b[43m[\u001b[49m\u001b[43mprimitive\u001b[49m\u001b[43m]\u001b[49m\u001b[38;5;241m.\u001b[39mop\n\u001b[1;32m    200\u001b[0m     in_types \u001b[38;5;241m=\u001b[39m primitives[primitive]\u001b[38;5;241m.\u001b[39min_types\n\u001b[1;32m    201\u001b[0m     out_type \u001b[38;5;241m=\u001b[39m primitives[primitive]\u001b[38;5;241m.\u001b[39mout_type\n",
      "\u001b[0;31mTypeError\u001b[0m: unhashable type: 'dict'"
     ]
    }
   ],
   "source": [
    "stgp_Laplace_preconditioner()"
   ]
  },
  {
   "cell_type": "code",
   "execution_count": null,
   "id": "cfc370fd-0dfe-41bc-b190-8e6abf704a4b",
   "metadata": {},
   "outputs": [],
   "source": []
  }
 ],
 "metadata": {
  "kernelspec": {
   "display_name": "Python 3 (ipykernel)",
   "language": "python",
   "name": "python3"
  },
  "language_info": {
   "codemirror_mode": {
    "name": "ipython",
    "version": 3
   },
   "file_extension": ".py",
   "mimetype": "text/x-python",
   "name": "python",
   "nbconvert_exporter": "python",
   "pygments_lexer": "ipython3",
   "version": "3.11.5"
  }
 },
 "nbformat": 4,
 "nbformat_minor": 5
}
